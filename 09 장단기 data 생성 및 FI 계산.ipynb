{
 "cells": [
  {
   "cell_type": "code",
   "execution_count": 1,
   "id": "57d301d5",
   "metadata": {},
   "outputs": [],
   "source": [
    "import pandas as pd\n",
    "import numpy as np\n",
    "\n",
    "# 결과 확인을 용이하게 하기 위한 코드\n",
    "from IPython.core.interactiveshell import InteractiveShell\n",
    "InteractiveShell.ast_node_interactivity = 'all'"
   ]
  },
  {
   "cell_type": "code",
   "execution_count": 87,
   "id": "8edcc13b",
   "metadata": {},
   "outputs": [
    {
     "data": {
      "text/plain": [
       "72"
      ]
     },
     "execution_count": 87,
     "metadata": {},
     "output_type": "execute_result"
    }
   ],
   "source": [
    "# cf) data가 없는 zero_index \n",
    "zero_index = [13,  125,  345,  631,  655,  746,  850,  901, 1003, 1063, 1110, \n",
    "              1265, 1453, 1608, 1672, 1713, 1756, 2060, 2122, 2365, 2443, 2475,\n",
    "              2587, 2603, 2740, 2787, 2853, 3226, 3308, 3464, 3570, 3637, 3687,\n",
    "              3756, 3793, 3915, 4044, 4093, 4260, 4405, 4503, 4533, 4614, 4689,\n",
    "              4899, 4961, 5140, 5169, 5235, 5338, 5373, 5473, 5558, 5630, 5722,\n",
    "              5886, 6006, 6014, 6036, 6046, 6318, 6385, 6519, 6761, 6781, 6923,\n",
    "              7288, 7388, 7515, 7527, 7593, 7755]\n",
    "len(zero_index)"
   ]
  },
  {
   "cell_type": "code",
   "execution_count": 2,
   "id": "11426afc",
   "metadata": {
    "scrolled": true
   },
   "outputs": [
    {
     "data": {
      "text/html": [
       "<div>\n",
       "<style scoped>\n",
       "    .dataframe tbody tr th:only-of-type {\n",
       "        vertical-align: middle;\n",
       "    }\n",
       "\n",
       "    .dataframe tbody tr th {\n",
       "        vertical-align: top;\n",
       "    }\n",
       "\n",
       "    .dataframe thead th {\n",
       "        text-align: right;\n",
       "    }\n",
       "</style>\n",
       "<table border=\"1\" class=\"dataframe\">\n",
       "  <thead>\n",
       "    <tr style=\"text-align: right;\">\n",
       "      <th></th>\n",
       "      <th>SUBJECT_ID</th>\n",
       "      <th>ITEMID</th>\n",
       "      <th>CHARTTIME</th>\n",
       "      <th>TYPE</th>\n",
       "    </tr>\n",
       "  </thead>\n",
       "  <tbody>\n",
       "    <tr>\n",
       "      <th>0</th>\n",
       "      <td>9</td>\n",
       "      <td>50882</td>\n",
       "      <td>2149-11-09</td>\n",
       "      <td>LAB</td>\n",
       "    </tr>\n",
       "    <tr>\n",
       "      <th>1</th>\n",
       "      <td>9</td>\n",
       "      <td>50931</td>\n",
       "      <td>2149-11-09</td>\n",
       "      <td>LAB</td>\n",
       "    </tr>\n",
       "    <tr>\n",
       "      <th>2</th>\n",
       "      <td>9</td>\n",
       "      <td>50971</td>\n",
       "      <td>2149-11-09</td>\n",
       "      <td>LAB</td>\n",
       "    </tr>\n",
       "    <tr>\n",
       "      <th>3</th>\n",
       "      <td>9</td>\n",
       "      <td>51275</td>\n",
       "      <td>2149-11-09</td>\n",
       "      <td>LAB</td>\n",
       "    </tr>\n",
       "    <tr>\n",
       "      <th>4</th>\n",
       "      <td>9</td>\n",
       "      <td>51288</td>\n",
       "      <td>2149-11-09</td>\n",
       "      <td>LAB</td>\n",
       "    </tr>\n",
       "    <tr>\n",
       "      <th>...</th>\n",
       "      <td>...</td>\n",
       "      <td>...</td>\n",
       "      <td>...</td>\n",
       "      <td>...</td>\n",
       "    </tr>\n",
       "    <tr>\n",
       "      <th>9221915</th>\n",
       "      <td>99985</td>\n",
       "      <td>51288</td>\n",
       "      <td>2181-03-06</td>\n",
       "      <td>LAB</td>\n",
       "    </tr>\n",
       "    <tr>\n",
       "      <th>9221916</th>\n",
       "      <td>99985</td>\n",
       "      <td>51279</td>\n",
       "      <td>2182-03-14</td>\n",
       "      <td>LAB</td>\n",
       "    </tr>\n",
       "    <tr>\n",
       "      <th>9221917</th>\n",
       "      <td>99985</td>\n",
       "      <td>51006</td>\n",
       "      <td>2182-03-14</td>\n",
       "      <td>LAB</td>\n",
       "    </tr>\n",
       "    <tr>\n",
       "      <th>9221918</th>\n",
       "      <td>99985</td>\n",
       "      <td>51221</td>\n",
       "      <td>2182-03-14</td>\n",
       "      <td>LAB</td>\n",
       "    </tr>\n",
       "    <tr>\n",
       "      <th>9221919</th>\n",
       "      <td>99985</td>\n",
       "      <td>51222</td>\n",
       "      <td>2182-03-14</td>\n",
       "      <td>LAB</td>\n",
       "    </tr>\n",
       "  </tbody>\n",
       "</table>\n",
       "<p>9221920 rows × 4 columns</p>\n",
       "</div>"
      ],
      "text/plain": [
       "         SUBJECT_ID  ITEMID   CHARTTIME TYPE\n",
       "0                 9   50882  2149-11-09  LAB\n",
       "1                 9   50931  2149-11-09  LAB\n",
       "2                 9   50971  2149-11-09  LAB\n",
       "3                 9   51275  2149-11-09  LAB\n",
       "4                 9   51288  2149-11-09  LAB\n",
       "...             ...     ...         ...  ...\n",
       "9221915       99985   51288  2181-03-06  LAB\n",
       "9221916       99985   51279  2182-03-14  LAB\n",
       "9221917       99985   51006  2182-03-14  LAB\n",
       "9221918       99985   51221  2182-03-14  LAB\n",
       "9221919       99985   51222  2182-03-14  LAB\n",
       "\n",
       "[9221920 rows x 4 columns]"
      ]
     },
     "execution_count": 2,
     "metadata": {},
     "output_type": "execute_result"
    }
   ],
   "source": [
    "total_data = pd.read_csv('total_data.csv')\n",
    "total_data"
   ]
  },
  {
   "cell_type": "markdown",
   "id": "7c3ad531",
   "metadata": {},
   "source": [
    "# 환자별 입원 기간에 대한 EDA\n",
    "## 환자의 입원 기간별 비율 \n",
    "- min : 0일, max : 4058일(11년)\n",
    "- 0이상 ~ 100미만 stay : 4967명/7799명 (63.68)\n",
    "- 100이상 ~ 200미만 stay : 509명/7799명 (6.52)\n",
    "- 200이상 ~ 300미만 stay : 341명/7799명 (4.37)\n",
    "- 300이상 ~ 400미만 stay : 417명/7799명 (5.34)\n",
    "> 0일이상 400일 미만으로 머무른 환자 수는 6234명이며 전체 환자 수의 79.9%이다.\n",
    "\n",
    "## 0이상 ~ 100미만에 대한 10단위 세분화\n",
    "- 0이상 ~ 10미만 : 1723명/7799명 (22.0)\n",
    "- 10이상 20미만 : 1300명/7799명 (16.6)\n",
    "- 20이상 30미만 : 688명/7799명 (8.82)\n",
    "- 30이상 40미만 : 425명/7799명 (5.44)\n",
    "\n",
    "## 장단기 data 후보\n",
    "- 후보1) interval : 1일, total : 10일 (10) -> 기존의 데이터 / 'x_(7727, 10, 4069).npy'\n",
    "- 후보2) interval : 2일, total : 20일 (10) -> 'x_int2_(7727, 10, 4069).npy'\n",
    "- 후보3) interval : 3일, total : 30일 (10) -> 'x_int3_(7727, 10, 4069).npy'\n",
    "- 후보4) interval : 2일, total : 60일 (30) -> 'x_int2_(7727, 30, 4069).npy'\n",
    "- 후보5) interval : 3일, total : 90일 (30) -> 'x_int3_(7727, 30, 4069).npy'"
   ]
  },
  {
   "cell_type": "code",
   "execution_count": 136,
   "id": "d940af76",
   "metadata": {},
   "outputs": [
    {
     "data": {
      "text/html": [
       "<div>\n",
       "<style scoped>\n",
       "    .dataframe tbody tr th:only-of-type {\n",
       "        vertical-align: middle;\n",
       "    }\n",
       "\n",
       "    .dataframe tbody tr th {\n",
       "        vertical-align: top;\n",
       "    }\n",
       "\n",
       "    .dataframe thead th {\n",
       "        text-align: right;\n",
       "    }\n",
       "</style>\n",
       "<table border=\"1\" class=\"dataframe\">\n",
       "  <thead>\n",
       "    <tr style=\"text-align: right;\">\n",
       "      <th></th>\n",
       "      <th>CHARTTIME_x</th>\n",
       "      <th>CHARTTIME_y</th>\n",
       "      <th>stay</th>\n",
       "    </tr>\n",
       "    <tr>\n",
       "      <th>SUBJECT_ID</th>\n",
       "      <th></th>\n",
       "      <th></th>\n",
       "      <th></th>\n",
       "    </tr>\n",
       "  </thead>\n",
       "  <tbody>\n",
       "    <tr>\n",
       "      <th>9</th>\n",
       "      <td>2149-11-09</td>\n",
       "      <td>2149-11-15</td>\n",
       "      <td>6</td>\n",
       "    </tr>\n",
       "    <tr>\n",
       "      <th>21</th>\n",
       "      <td>2134-08-20</td>\n",
       "      <td>2135-02-08</td>\n",
       "      <td>172</td>\n",
       "    </tr>\n",
       "    <tr>\n",
       "      <th>31</th>\n",
       "      <td>2108-08-22</td>\n",
       "      <td>2108-08-31</td>\n",
       "      <td>9</td>\n",
       "    </tr>\n",
       "    <tr>\n",
       "      <th>36</th>\n",
       "      <td>2131-04-30</td>\n",
       "      <td>2134-05-20</td>\n",
       "      <td>1116</td>\n",
       "    </tr>\n",
       "    <tr>\n",
       "      <th>37</th>\n",
       "      <td>2183-08-21</td>\n",
       "      <td>2184-04-27</td>\n",
       "      <td>250</td>\n",
       "    </tr>\n",
       "    <tr>\n",
       "      <th>...</th>\n",
       "      <td>...</td>\n",
       "      <td>...</td>\n",
       "      <td>...</td>\n",
       "    </tr>\n",
       "    <tr>\n",
       "      <th>99863</th>\n",
       "      <td>2142-04-02</td>\n",
       "      <td>2142-05-08</td>\n",
       "      <td>36</td>\n",
       "    </tr>\n",
       "    <tr>\n",
       "      <th>99934</th>\n",
       "      <td>2110-02-28</td>\n",
       "      <td>2110-03-06</td>\n",
       "      <td>6</td>\n",
       "    </tr>\n",
       "    <tr>\n",
       "      <th>99937</th>\n",
       "      <td>2128-05-11</td>\n",
       "      <td>2128-05-20</td>\n",
       "      <td>9</td>\n",
       "    </tr>\n",
       "    <tr>\n",
       "      <th>99944</th>\n",
       "      <td>2161-02-16</td>\n",
       "      <td>2161-02-21</td>\n",
       "      <td>5</td>\n",
       "    </tr>\n",
       "    <tr>\n",
       "      <th>99985</th>\n",
       "      <td>2181-01-18</td>\n",
       "      <td>2182-03-14</td>\n",
       "      <td>420</td>\n",
       "    </tr>\n",
       "  </tbody>\n",
       "</table>\n",
       "<p>7799 rows × 3 columns</p>\n",
       "</div>"
      ],
      "text/plain": [
       "           CHARTTIME_x CHARTTIME_y  stay\n",
       "SUBJECT_ID                              \n",
       "9           2149-11-09  2149-11-15     6\n",
       "21          2134-08-20  2135-02-08   172\n",
       "31          2108-08-22  2108-08-31     9\n",
       "36          2131-04-30  2134-05-20  1116\n",
       "37          2183-08-21  2184-04-27   250\n",
       "...                ...         ...   ...\n",
       "99863       2142-04-02  2142-05-08    36\n",
       "99934       2110-02-28  2110-03-06     6\n",
       "99937       2128-05-11  2128-05-20     9\n",
       "99944       2161-02-16  2161-02-21     5\n",
       "99985       2181-01-18  2182-03-14   420\n",
       "\n",
       "[7799 rows x 3 columns]"
      ]
     },
     "execution_count": 136,
     "metadata": {},
     "output_type": "execute_result"
    }
   ],
   "source": [
    "# stay를 위한 df\n",
    "import datetime as dt\n",
    "\n",
    "mn = total_data.pivot_table(columns=['SUBJECT_ID'],values=['CHARTTIME'],aggfunc='min').transpose()\n",
    "mx = total_data.pivot_table(columns=['SUBJECT_ID'],values=['CHARTTIME'],aggfunc='max').transpose()\n",
    "datecheck = pd.merge(mn, mx, on='SUBJECT_ID')\n",
    "datecheck['CHARTTIME_x'] = pd.to_datetime(datecheck['CHARTTIME_x'])\n",
    "datecheck['CHARTTIME_y'] = pd.to_datetime(datecheck['CHARTTIME_y'])\n",
    "datecheck['stay']=(datecheck['CHARTTIME_y']-datecheck['CHARTTIME_x']).dt.days\n",
    "datecheck"
   ]
  },
  {
   "cell_type": "code",
   "execution_count": 127,
   "id": "dd70eef6",
   "metadata": {},
   "outputs": [
    {
     "data": {
      "text/html": [
       "<div>\n",
       "<style scoped>\n",
       "    .dataframe tbody tr th:only-of-type {\n",
       "        vertical-align: middle;\n",
       "    }\n",
       "\n",
       "    .dataframe tbody tr th {\n",
       "        vertical-align: top;\n",
       "    }\n",
       "\n",
       "    .dataframe thead th {\n",
       "        text-align: right;\n",
       "    }\n",
       "</style>\n",
       "<table border=\"1\" class=\"dataframe\">\n",
       "  <thead>\n",
       "    <tr style=\"text-align: right;\">\n",
       "      <th></th>\n",
       "      <th>stay</th>\n",
       "      <th>level</th>\n",
       "    </tr>\n",
       "    <tr>\n",
       "      <th>SUBJECT_ID</th>\n",
       "      <th></th>\n",
       "      <th></th>\n",
       "    </tr>\n",
       "  </thead>\n",
       "  <tbody>\n",
       "    <tr>\n",
       "      <th>9</th>\n",
       "      <td>6</td>\n",
       "      <td>0이상 100미만</td>\n",
       "    </tr>\n",
       "    <tr>\n",
       "      <th>21</th>\n",
       "      <td>172</td>\n",
       "      <td>100이상 200미만</td>\n",
       "    </tr>\n",
       "    <tr>\n",
       "      <th>31</th>\n",
       "      <td>9</td>\n",
       "      <td>0이상 100미만</td>\n",
       "    </tr>\n",
       "    <tr>\n",
       "      <th>36</th>\n",
       "      <td>1116</td>\n",
       "      <td>1100이상 1200미만</td>\n",
       "    </tr>\n",
       "    <tr>\n",
       "      <th>37</th>\n",
       "      <td>250</td>\n",
       "      <td>200이상 300미만</td>\n",
       "    </tr>\n",
       "    <tr>\n",
       "      <th>...</th>\n",
       "      <td>...</td>\n",
       "      <td>...</td>\n",
       "    </tr>\n",
       "    <tr>\n",
       "      <th>99863</th>\n",
       "      <td>36</td>\n",
       "      <td>0이상 100미만</td>\n",
       "    </tr>\n",
       "    <tr>\n",
       "      <th>99934</th>\n",
       "      <td>6</td>\n",
       "      <td>0이상 100미만</td>\n",
       "    </tr>\n",
       "    <tr>\n",
       "      <th>99937</th>\n",
       "      <td>9</td>\n",
       "      <td>0이상 100미만</td>\n",
       "    </tr>\n",
       "    <tr>\n",
       "      <th>99944</th>\n",
       "      <td>5</td>\n",
       "      <td>0이상 100미만</td>\n",
       "    </tr>\n",
       "    <tr>\n",
       "      <th>99985</th>\n",
       "      <td>420</td>\n",
       "      <td>400이상 500미만</td>\n",
       "    </tr>\n",
       "  </tbody>\n",
       "</table>\n",
       "<p>7799 rows × 2 columns</p>\n",
       "</div>"
      ],
      "text/plain": [
       "            stay          level\n",
       "SUBJECT_ID                     \n",
       "9              6      0이상 100미만\n",
       "21           172    100이상 200미만\n",
       "31             9      0이상 100미만\n",
       "36          1116  1100이상 1200미만\n",
       "37           250    200이상 300미만\n",
       "...          ...            ...\n",
       "99863         36      0이상 100미만\n",
       "99934          6      0이상 100미만\n",
       "99937          9      0이상 100미만\n",
       "99944          5      0이상 100미만\n",
       "99985        420    400이상 500미만\n",
       "\n",
       "[7799 rows x 2 columns]"
      ]
     },
     "execution_count": 127,
     "metadata": {},
     "output_type": "execute_result"
    }
   ],
   "source": [
    "# stay 0~4058일에 대한 10일 단위 구간화 \n",
    "stay_df = pd.DataFrame(datecheck['stay'])\n",
    "bins = list(range(0, 4200, 100))\n",
    "bins_label = [str(x)+\"이상 \"+str(x+100)+\"미만\" for x in bins]\n",
    "stay_df[\"level\"] = pd.cut(stay_df['stay'], bins, right=False, labels=bins_label[:-1])\n",
    "stay_df"
   ]
  },
  {
   "cell_type": "code",
   "execution_count": 118,
   "id": "db8895d5",
   "metadata": {},
   "outputs": [
    {
     "data": {
      "text/html": [
       "<div>\n",
       "<style scoped>\n",
       "    .dataframe tbody tr th:only-of-type {\n",
       "        vertical-align: middle;\n",
       "    }\n",
       "\n",
       "    .dataframe tbody tr th {\n",
       "        vertical-align: top;\n",
       "    }\n",
       "\n",
       "    .dataframe thead th {\n",
       "        text-align: right;\n",
       "    }\n",
       "</style>\n",
       "<table border=\"1\" class=\"dataframe\">\n",
       "  <thead>\n",
       "    <tr style=\"text-align: right;\">\n",
       "      <th></th>\n",
       "      <th>stay</th>\n",
       "      <th>level</th>\n",
       "    </tr>\n",
       "    <tr>\n",
       "      <th>SUBJECT_ID</th>\n",
       "      <th></th>\n",
       "      <th></th>\n",
       "    </tr>\n",
       "  </thead>\n",
       "  <tbody>\n",
       "    <tr>\n",
       "      <th>9</th>\n",
       "      <td>6</td>\n",
       "      <td>0이상 10미만</td>\n",
       "    </tr>\n",
       "    <tr>\n",
       "      <th>31</th>\n",
       "      <td>9</td>\n",
       "      <td>0이상 10미만</td>\n",
       "    </tr>\n",
       "    <tr>\n",
       "      <th>41</th>\n",
       "      <td>32</td>\n",
       "      <td>30이상 40미만</td>\n",
       "    </tr>\n",
       "    <tr>\n",
       "      <th>101</th>\n",
       "      <td>11</td>\n",
       "      <td>10이상 20미만</td>\n",
       "    </tr>\n",
       "    <tr>\n",
       "      <th>103</th>\n",
       "      <td>20</td>\n",
       "      <td>20이상 30미만</td>\n",
       "    </tr>\n",
       "    <tr>\n",
       "      <th>...</th>\n",
       "      <td>...</td>\n",
       "      <td>...</td>\n",
       "    </tr>\n",
       "    <tr>\n",
       "      <th>99836</th>\n",
       "      <td>66</td>\n",
       "      <td>60이상 70미만</td>\n",
       "    </tr>\n",
       "    <tr>\n",
       "      <th>99863</th>\n",
       "      <td>36</td>\n",
       "      <td>30이상 40미만</td>\n",
       "    </tr>\n",
       "    <tr>\n",
       "      <th>99934</th>\n",
       "      <td>6</td>\n",
       "      <td>0이상 10미만</td>\n",
       "    </tr>\n",
       "    <tr>\n",
       "      <th>99937</th>\n",
       "      <td>9</td>\n",
       "      <td>0이상 10미만</td>\n",
       "    </tr>\n",
       "    <tr>\n",
       "      <th>99944</th>\n",
       "      <td>5</td>\n",
       "      <td>0이상 10미만</td>\n",
       "    </tr>\n",
       "  </tbody>\n",
       "</table>\n",
       "<p>4967 rows × 2 columns</p>\n",
       "</div>"
      ],
      "text/plain": [
       "            stay      level\n",
       "SUBJECT_ID                 \n",
       "9              6   0이상 10미만\n",
       "31             9   0이상 10미만\n",
       "41            32  30이상 40미만\n",
       "101           11  10이상 20미만\n",
       "103           20  20이상 30미만\n",
       "...          ...        ...\n",
       "99836         66  60이상 70미만\n",
       "99863         36  30이상 40미만\n",
       "99934          6   0이상 10미만\n",
       "99937          9   0이상 10미만\n",
       "99944          5   0이상 10미만\n",
       "\n",
       "[4967 rows x 2 columns]"
      ]
     },
     "execution_count": 118,
     "metadata": {},
     "output_type": "execute_result"
    }
   ],
   "source": [
    "# stay 0~100일에 대한 10일 단위 구간화 \n",
    "stay100 = stay_df[stay_df['level']=='0이상 100미만'].drop(columns='level')\n",
    "bins = list(range(0, 110, 10))\n",
    "bins_label = [str(x)+\"이상 \"+str(x+10)+\"미만\" for x in bins]\n",
    "stay100[\"level\"] = pd.cut(stay100['stay'], bins, right=False, labels=bins_label[:-1])\n",
    "stay100"
   ]
  },
  {
   "cell_type": "markdown",
   "id": "6d6e2525",
   "metadata": {},
   "source": [
    "# 7727명만을 포함한 total_data_7727.csv"
   ]
  },
  {
   "cell_type": "code",
   "execution_count": 77,
   "id": "5e3e912e",
   "metadata": {},
   "outputs": [
    {
     "data": {
      "text/html": [
       "<div>\n",
       "<style scoped>\n",
       "    .dataframe tbody tr th:only-of-type {\n",
       "        vertical-align: middle;\n",
       "    }\n",
       "\n",
       "    .dataframe tbody tr th {\n",
       "        vertical-align: top;\n",
       "    }\n",
       "\n",
       "    .dataframe thead th {\n",
       "        text-align: right;\n",
       "    }\n",
       "</style>\n",
       "<table border=\"1\" class=\"dataframe\">\n",
       "  <thead>\n",
       "    <tr style=\"text-align: right;\">\n",
       "      <th></th>\n",
       "      <th>SUBJECT_ID</th>\n",
       "      <th>ITEMID</th>\n",
       "      <th>CHARTTIME</th>\n",
       "      <th>TYPE</th>\n",
       "    </tr>\n",
       "  </thead>\n",
       "  <tbody>\n",
       "    <tr>\n",
       "      <th>0</th>\n",
       "      <td>9</td>\n",
       "      <td>50882</td>\n",
       "      <td>2149-11-09</td>\n",
       "      <td>LAB</td>\n",
       "    </tr>\n",
       "    <tr>\n",
       "      <th>1</th>\n",
       "      <td>9</td>\n",
       "      <td>50931</td>\n",
       "      <td>2149-11-09</td>\n",
       "      <td>LAB</td>\n",
       "    </tr>\n",
       "    <tr>\n",
       "      <th>2</th>\n",
       "      <td>9</td>\n",
       "      <td>50971</td>\n",
       "      <td>2149-11-09</td>\n",
       "      <td>LAB</td>\n",
       "    </tr>\n",
       "    <tr>\n",
       "      <th>3</th>\n",
       "      <td>9</td>\n",
       "      <td>51275</td>\n",
       "      <td>2149-11-09</td>\n",
       "      <td>LAB</td>\n",
       "    </tr>\n",
       "    <tr>\n",
       "      <th>4</th>\n",
       "      <td>9</td>\n",
       "      <td>51288</td>\n",
       "      <td>2149-11-09</td>\n",
       "      <td>LAB</td>\n",
       "    </tr>\n",
       "    <tr>\n",
       "      <th>...</th>\n",
       "      <td>...</td>\n",
       "      <td>...</td>\n",
       "      <td>...</td>\n",
       "      <td>...</td>\n",
       "    </tr>\n",
       "    <tr>\n",
       "      <th>9221915</th>\n",
       "      <td>99985</td>\n",
       "      <td>51288</td>\n",
       "      <td>2181-03-06</td>\n",
       "      <td>LAB</td>\n",
       "    </tr>\n",
       "    <tr>\n",
       "      <th>9221916</th>\n",
       "      <td>99985</td>\n",
       "      <td>51279</td>\n",
       "      <td>2182-03-14</td>\n",
       "      <td>LAB</td>\n",
       "    </tr>\n",
       "    <tr>\n",
       "      <th>9221917</th>\n",
       "      <td>99985</td>\n",
       "      <td>51006</td>\n",
       "      <td>2182-03-14</td>\n",
       "      <td>LAB</td>\n",
       "    </tr>\n",
       "    <tr>\n",
       "      <th>9221918</th>\n",
       "      <td>99985</td>\n",
       "      <td>51221</td>\n",
       "      <td>2182-03-14</td>\n",
       "      <td>LAB</td>\n",
       "    </tr>\n",
       "    <tr>\n",
       "      <th>9221919</th>\n",
       "      <td>99985</td>\n",
       "      <td>51222</td>\n",
       "      <td>2182-03-14</td>\n",
       "      <td>LAB</td>\n",
       "    </tr>\n",
       "  </tbody>\n",
       "</table>\n",
       "<p>9169855 rows × 4 columns</p>\n",
       "</div>"
      ],
      "text/plain": [
       "         SUBJECT_ID  ITEMID   CHARTTIME TYPE\n",
       "0                 9   50882  2149-11-09  LAB\n",
       "1                 9   50931  2149-11-09  LAB\n",
       "2                 9   50971  2149-11-09  LAB\n",
       "3                 9   51275  2149-11-09  LAB\n",
       "4                 9   51288  2149-11-09  LAB\n",
       "...             ...     ...         ...  ...\n",
       "9221915       99985   51288  2181-03-06  LAB\n",
       "9221916       99985   51279  2182-03-14  LAB\n",
       "9221917       99985   51006  2182-03-14  LAB\n",
       "9221918       99985   51221  2182-03-14  LAB\n",
       "9221919       99985   51222  2182-03-14  LAB\n",
       "\n",
       "[9169855 rows x 4 columns]"
      ]
     },
     "execution_count": 77,
     "metadata": {},
     "output_type": "execute_result"
    }
   ],
   "source": [
    "# total_data.csv -> 7727명을 포함한 total_data.csv\n",
    "x = np.load('./x_(7799,10,4069).npy')\n",
    "\n",
    "sub_sum = x.sum(axis=1).sum(axis=1)\n",
    "sub_sum[sub_sum>1] = 1\n",
    "sub_sum = pd.DataFrame(sub_sum)\n",
    "sub_sum = sub_sum.reset_index()\n",
    "sub_sum.columns = ['subid','value']\n",
    "# sub_sum\n",
    "\n",
    "zero_index = sub_sum[sub_sum['value']==0].index\n",
    "sub_df = pd.DataFrame(total_data['SUBJECT_ID'].unique())\n",
    "sub_df = sub_df.drop(index=zero_index)\n",
    "subid_7727 = sub_df[0].values\n",
    "# subid_7727\n",
    "\n",
    "total_data = pd.read_csv('total_data.csv')\n",
    "total_data2 = total_data[total_data['SUBJECT_ID'].isin(subid_7727)]\n",
    "total_data2\n",
    "\n",
    "# total_data2 -> csv로 저장\n",
    "# total_data2.to_csv('total_data_7727.csv', index=False)"
   ]
  },
  {
   "cell_type": "markdown",
   "id": "f79a5b1f",
   "metadata": {},
   "source": [
    "# int = 1, total = 10 (len = 10)\n",
    "- 'x_(7727, 10, 4069).npy'로 저장"
   ]
  },
  {
   "cell_type": "code",
   "execution_count": 118,
   "id": "56e94098",
   "metadata": {},
   "outputs": [
    {
     "data": {
      "text/plain": [
       "7727"
      ]
     },
     "execution_count": 118,
     "metadata": {},
     "output_type": "execute_result"
    },
    {
     "data": {
      "text/plain": [
       "4069"
      ]
     },
     "execution_count": 118,
     "metadata": {},
     "output_type": "execute_result"
    },
    {
     "data": {
      "text/plain": [
       "7727"
      ]
     },
     "execution_count": 118,
     "metadata": {},
     "output_type": "execute_result"
    }
   ],
   "source": [
    "total_data2 = pd.read_csv('total_data_7727.csv')\n",
    "\n",
    "dic_sub2idx = {}\n",
    "for i, j in enumerate(total_data2['SUBJECT_ID'].unique()):\n",
    "    dic_sub2idx[j] = i\n",
    "\n",
    "dic_item2idx = {}\n",
    "for i, j in enumerate(total_data['ITEMID'].sort_values().unique()): ## total_data2의 ITEMID 개수 : 4068개 \n",
    "    dic_item2idx[j] = i\n",
    "\n",
    "admission = pd.read_csv('/project/data/ADMISSIONS.csv')\n",
    "admission = admission[admission['SUBJECT_ID'].isin(total_data2['SUBJECT_ID'].unique())]\n",
    "\n",
    "# DISCHTIME열 시간 제거\n",
    "import datetime as dt\n",
    "admission['DISCHTIME'] = pd.to_datetime(admission['DISCHTIME'])\n",
    "admission['DISCHTIME'] = admission['DISCHTIME'].dt.date\n",
    "\n",
    "dic_sub2final_date = dict(admission.groupby('SUBJECT_ID')['DISCHTIME'].max())\n",
    "\n",
    "len(dic_sub2idx)\n",
    "len(dic_item2idx)\n",
    "len(dic_sub2final_date)"
   ]
  },
  {
   "cell_type": "code",
   "execution_count": 121,
   "id": "ed9ead86",
   "metadata": {
    "scrolled": true
   },
   "outputs": [
    {
     "name": "stderr",
     "output_type": "stream",
     "text": [
      "9169855it [00:14, 623455.64it/s]\n"
     ]
    },
    {
     "name": "stdout",
     "output_type": "stream",
     "text": [
      "2042722.0\n",
      "(7727, 10, 4069)\n"
     ]
    }
   ],
   "source": [
    "from datetime import timedelta\n",
    "from tqdm import tqdm\n",
    "import datetime\n",
    "\n",
    "x = np.zeros((7727,10,4069))\n",
    "\n",
    "IF = open('total_data_7727.csv','r')\n",
    "line = IF.readline()\n",
    "for line in tqdm(IF):\n",
    "    ss = line.strip('\\n').split(',')\n",
    "    sub, item, charttime = int(ss[0]), int(ss[1]), datetime.date.fromisoformat(ss[2])\n",
    "    subidx = dic_sub2idx[sub]\n",
    "    itemidx = dic_item2idx[item]\n",
    "    finaldate = dic_sub2final_date[sub]\n",
    "    interval = (finaldate - charttime).days\n",
    "    \n",
    "    if (interval < 1) or (interval > 10): # interval : 1일이상 ~ 10일이하만 고려 \n",
    "        pass\n",
    "    else:\n",
    "        dateidx = -((finaldate - charttime).days) + 10\n",
    "        x[subidx, dateidx, itemidx] = 1\n",
    "\n",
    "IF.close()\n",
    "print(x.sum())\n",
    "print(x.shape)"
   ]
  },
  {
   "cell_type": "code",
   "execution_count": 122,
   "id": "a89b5f78",
   "metadata": {},
   "outputs": [
    {
     "data": {
      "text/plain": [
       "2042722.0"
      ]
     },
     "execution_count": 122,
     "metadata": {},
     "output_type": "execute_result"
    }
   ],
   "source": [
    "# 기존에 만든 것과 sum이 같은지 확인 \n",
    "t = np.load('x_(7727,10,4069).npy')\n",
    "t.sum()"
   ]
  },
  {
   "cell_type": "markdown",
   "id": "5b58afa7",
   "metadata": {},
   "source": [
    "# int = 2, total = 20 (len = 10)\n",
    "- 'x_int2_(7727, 10, 4069).npy'로 저장\n",
    "- 7727명 중 data가 하나도 없는 환자 : 196명"
   ]
  },
  {
   "cell_type": "markdown",
   "id": "b22ee17e",
   "metadata": {},
   "source": [
    "- ★ 계산 note \n",
    "- dateidx = -(finaldate - charttime).days + 10\n",
    "- (D-?) 0 ( 1 2 3 4 5 6 7 8 9 10 )\n",
    "- (arr_index) 10 ( 9 8 7 6 5 4 3 2 1 0 )\n",
    "\n",
    "\n",
    "- dateidx = -((finaldate - charttime).days)//2 + 10\n",
    "- (finaldate - charttime) % 2 == 0 => 조건추가\n",
    "- (D-?) = 0 ( 2 4 6 8 10 12 14 16 18 20 )\n",
    "- (arr_index) = 10 ( 9 8 7 6 5 4 3 2 1 0 )"
   ]
  },
  {
   "cell_type": "code",
   "execution_count": 142,
   "id": "7b230d24",
   "metadata": {
    "scrolled": true
   },
   "outputs": [
    {
     "name": "stderr",
     "output_type": "stream",
     "text": [
      "9169855it [00:14, 617069.65it/s]\n"
     ]
    },
    {
     "name": "stdout",
     "output_type": "stream",
     "text": [
      "1461410.0\n",
      "(7727, 10, 4069)\n"
     ]
    }
   ],
   "source": [
    "from datetime import timedelta\n",
    "from tqdm import tqdm\n",
    "import datetime\n",
    "\n",
    "x = np.zeros((7727,10,4069))\n",
    "\n",
    "IF = open('total_data_7727.csv','r')\n",
    "line = IF.readline()\n",
    "for line in tqdm(IF):\n",
    "    ss = line.strip('\\n').split(',')\n",
    "    sub, item, charttime = int(ss[0]), int(ss[1]), datetime.date.fromisoformat(ss[2])\n",
    "    subidx = dic_sub2idx[sub]\n",
    "    itemidx = dic_item2idx[item]\n",
    "    finaldate = dic_sub2final_date[sub]\n",
    "    interval = (finaldate - charttime).days\n",
    "    \n",
    "    if (interval < 2) or (interval > 20): # interval : 2일이상 ~ 20일이하만 고려 \n",
    "        pass\n",
    "    else:\n",
    "        if ((interval % 2) == 0):\n",
    "            dateidx = -((finaldate - charttime).days)//2 + 10\n",
    "            x[subidx, dateidx, itemidx] = 1\n",
    "\n",
    "IF.close()\n",
    "print(x.sum())\n",
    "print(x.shape)"
   ]
  },
  {
   "cell_type": "code",
   "execution_count": 143,
   "id": "1c7709a0",
   "metadata": {},
   "outputs": [],
   "source": [
    "# x save\n",
    "# np.save('x_int2_(7727,10,4069).npy',x)\n",
    "\n",
    "# x load\n",
    "x_int2 = np.load(\"x_int2_(7727, 10, 4069).npy\")"
   ]
  },
  {
   "cell_type": "markdown",
   "id": "58ce718f",
   "metadata": {},
   "source": [
    "# int = 3, total = 30 (len = 10)\n",
    "- 'x_int3_(7727, 10, 4069).npy'로 저장"
   ]
  },
  {
   "cell_type": "code",
   "execution_count": 130,
   "id": "e7af49cc",
   "metadata": {},
   "outputs": [
    {
     "name": "stderr",
     "output_type": "stream",
     "text": [
      "9169855it [00:14, 640646.42it/s]\n"
     ]
    },
    {
     "name": "stdout",
     "output_type": "stream",
     "text": [
      "1095557.0\n",
      "(7727, 10, 4069)\n"
     ]
    }
   ],
   "source": [
    "from datetime import timedelta\n",
    "from tqdm import tqdm\n",
    "import datetime\n",
    "\n",
    "x = np.zeros((7727,10,4069))\n",
    "\n",
    "IF = open('total_data_7727.csv','r')\n",
    "line = IF.readline()\n",
    "for line in tqdm(IF):\n",
    "    ss = line.strip('\\n').split(',')\n",
    "    sub, item, charttime = int(ss[0]), int(ss[1]), datetime.date.fromisoformat(ss[2])\n",
    "    subidx = dic_sub2idx[sub]\n",
    "    itemidx = dic_item2idx[item]\n",
    "    finaldate = dic_sub2final_date[sub]\n",
    "    interval = (finaldate - charttime).days\n",
    "    \n",
    "    if (interval < 3) or (interval > 30): # interval : 3일이상 ~ 30일이하만 고려 \n",
    "        pass\n",
    "    else:\n",
    "        if ((interval % 3) == 0):\n",
    "            dateidx = -((finaldate - charttime).days)//3 + 10\n",
    "            x[subidx, dateidx, itemidx] = 1\n",
    "\n",
    "IF.close()\n",
    "print(x.sum())\n",
    "print(x.shape)"
   ]
  },
  {
   "cell_type": "code",
   "execution_count": 131,
   "id": "ca614940",
   "metadata": {},
   "outputs": [],
   "source": [
    "# x save\n",
    "np.save('x_int3_(7727,10,4069).npy',x)\n",
    "\n",
    "# x load\n",
    "x_int2 = np.load(\"x_int3_(7727, 10, 4069).npy\")"
   ]
  },
  {
   "cell_type": "markdown",
   "id": "ae570476",
   "metadata": {},
   "source": [
    "# int = 2, total = 60 (len = 30)\n",
    "- 'x_int2_(7727,30,4069).npy'로 저장"
   ]
  },
  {
   "cell_type": "markdown",
   "id": "f0d9f419",
   "metadata": {},
   "source": [
    "- ★ 계산 note \n",
    "- dateidx = -(finaldate - charttime).days + 10\n",
    "- (D-?) 0 ( 1 2 3 4 5 6 7 8 9 10 )\n",
    "- (arr_index) 10 ( 9 8 7 6 5 4 3 2 1 0 )\n",
    "\n",
    "\n",
    "- dateidx = -((finaldate - charttime).days)//2 + 30\n",
    "- (finaldate - charttime) % 2 == 0 => 조건추가\n",
    "- (D-?) = 0 ( 2 4 6 8 10 12 14 16 18 20 ... 58 60 )\n",
    "- (arr_index) = 30 ( 29 28 27 26 25 24 ... 3 2 1 0 )"
   ]
  },
  {
   "cell_type": "code",
   "execution_count": 141,
   "id": "85278173",
   "metadata": {},
   "outputs": [
    {
     "name": "stderr",
     "output_type": "stream",
     "text": [
      "9169855it [00:15, 591364.86it/s]\n"
     ]
    },
    {
     "name": "stdout",
     "output_type": "stream",
     "text": [
      "1986925.0\n",
      "(7727, 30, 4069)\n"
     ]
    }
   ],
   "source": [
    "from datetime import timedelta\n",
    "from tqdm import tqdm\n",
    "import datetime\n",
    "\n",
    "x = np.zeros((7727,30,4069))\n",
    "\n",
    "IF = open('total_data_7727.csv','r')\n",
    "line = IF.readline()\n",
    "for line in tqdm(IF):\n",
    "    ss = line.strip('\\n').split(',')\n",
    "    sub, item, charttime = int(ss[0]), int(ss[1]), datetime.date.fromisoformat(ss[2])\n",
    "    subidx = dic_sub2idx[sub]\n",
    "    itemidx = dic_item2idx[item]\n",
    "    finaldate = dic_sub2final_date[sub]\n",
    "    interval = (finaldate - charttime).days\n",
    "    \n",
    "    if (interval < 2) or (interval > 60): # interval : 2일이상 ~ 60일이하만 고려 \n",
    "        pass\n",
    "    else:\n",
    "        if ((interval % 2) == 0):\n",
    "            dateidx = -((finaldate - charttime).days)//2 + 30\n",
    "            x[subidx, dateidx, itemidx] = 1\n",
    "\n",
    "IF.close()\n",
    "print(x.sum())\n",
    "print(x.shape)"
   ]
  },
  {
   "cell_type": "code",
   "execution_count": 136,
   "id": "b69f4707",
   "metadata": {},
   "outputs": [],
   "source": [
    "# x save\n",
    "# np.save('x_int2_(7727,30,4069).npy',x)\n",
    "\n",
    "# x load\n",
    "x_int2_30 = np.load(\"x_int2_(7727,30,4069).npy\")"
   ]
  },
  {
   "cell_type": "markdown",
   "id": "e5853a1a",
   "metadata": {},
   "source": [
    "# int = 3, total = 90 (len = 30)\n",
    "- 'x_int3_(7727, 30, 4069).npy'로 저장"
   ]
  },
  {
   "cell_type": "markdown",
   "id": "8b6176a2",
   "metadata": {},
   "source": [
    "- ★ 계산 note \n",
    "- dateidx = -(finaldate - charttime).days + 10\n",
    "- (D-?) 0 ( 1 2 3 4 5 6 7 8 9 10 )\n",
    "- (arr_index) 10 ( 9 8 7 6 5 4 3 2 1 0 )\n",
    "\n",
    "\n",
    "- dateidx = -((finaldate - charttime).days)//3 + 30\n",
    "- (finaldate - charttime) % 3 == 0 => 조건추가\n",
    "- (D-?) = 0 ( 3 6 9 12 15 ... 87 90 )\n",
    "- (arr_index) = 30 ( 29 28 27 26 25 24 ... 3 2 1 0 )"
   ]
  },
  {
   "cell_type": "code",
   "execution_count": 140,
   "id": "4bc58381",
   "metadata": {},
   "outputs": [
    {
     "name": "stderr",
     "output_type": "stream",
     "text": [
      "9169855it [00:14, 617086.22it/s]\n"
     ]
    },
    {
     "name": "stdout",
     "output_type": "stream",
     "text": [
      "1380745.0\n",
      "(7727, 30, 4069)\n"
     ]
    }
   ],
   "source": [
    "from datetime import timedelta\n",
    "from tqdm import tqdm\n",
    "import datetime\n",
    "\n",
    "x = np.zeros((7727,30,4069))\n",
    "\n",
    "IF = open('total_data_7727.csv','r')\n",
    "line = IF.readline()\n",
    "for line in tqdm(IF):\n",
    "    ss = line.strip('\\n').split(',')\n",
    "    sub, item, charttime = int(ss[0]), int(ss[1]), datetime.date.fromisoformat(ss[2])\n",
    "    subidx = dic_sub2idx[sub]\n",
    "    itemidx = dic_item2idx[item]\n",
    "    finaldate = dic_sub2final_date[sub]\n",
    "    interval = (finaldate - charttime).days\n",
    "    \n",
    "    if (interval < 3) or (interval > 90): # interval : 3일이상 ~ 90일이하만 고려 \n",
    "        pass\n",
    "    else:\n",
    "        if ((interval % 3) == 0):\n",
    "            dateidx = -((finaldate - charttime).days)//3 + 30\n",
    "            x[subidx, dateidx, itemidx] = 1\n",
    "\n",
    "IF.close()\n",
    "print(x.sum())\n",
    "print(x.shape)"
   ]
  }
 ],
 "metadata": {
  "kernelspec": {
   "display_name": "Python 3",
   "language": "python",
   "name": "python3"
  },
  "language_info": {
   "codemirror_mode": {
    "name": "ipython",
    "version": 3
   },
   "file_extension": ".py",
   "mimetype": "text/x-python",
   "name": "python",
   "nbconvert_exporter": "python",
   "pygments_lexer": "ipython3",
   "version": "3.8.5"
  },
  "toc": {
   "base_numbering": 1,
   "nav_menu": {},
   "number_sections": true,
   "sideBar": true,
   "skip_h1_title": false,
   "title_cell": "Table of Contents",
   "title_sidebar": "Contents",
   "toc_cell": false,
   "toc_position": {
    "height": "calc(100% - 180px)",
    "left": "10px",
    "top": "150px",
    "width": "246.447px"
   },
   "toc_section_display": true,
   "toc_window_display": true
  }
 },
 "nbformat": 4,
 "nbformat_minor": 5
}
