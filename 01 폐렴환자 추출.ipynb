{
 "cells": [
  {
   "cell_type": "code",
   "execution_count": 1,
   "id": "2080b99e",
   "metadata": {},
   "outputs": [],
   "source": [
    "import pandas as pd\n",
    "import numpy as np\n",
    "\n",
    "# 결과 확인을 용이하게 하기 위한 코드\n",
    "from IPython.core.interactiveshell import InteractiveShell\n",
    "InteractiveShell.ast_node_interactivity = 'all'\n",
    "\n",
    "# https://baeseongsu.github.io/posts/mimiciii/\n",
    "# 기초 테이블 확인 : https://mimic.mit.edu/docs/iii/tables/\n",
    "# 스키마 확인 : https://mit-lcp.github.io/mimic-schema-spy/"
   ]
  },
  {
   "cell_type": "markdown",
   "id": "00672640",
   "metadata": {},
   "source": [
    "# 01 폐렴환자 추출"
   ]
  },
  {
   "cell_type": "code",
   "execution_count": 41,
   "id": "ada1a0b4",
   "metadata": {},
   "outputs": [
    {
     "data": {
      "text/plain": [
       "Index(['ROW_ID', 'SUBJECT_ID', 'HADM_ID', 'ITEMID', 'CHARTTIME', 'VALUE',\n",
       "       'VALUENUM', 'VALUEUOM', 'FLAG'],\n",
       "      dtype='object')"
      ]
     },
     "execution_count": 41,
     "metadata": {},
     "output_type": "execute_result"
    },
    {
     "data": {
      "text/plain": [
       "(9356349, 9)"
      ]
     },
     "execution_count": 41,
     "metadata": {},
     "output_type": "execute_result"
    }
   ],
   "source": [
    "lab.columns\n",
    "lab.shape"
   ]
  },
  {
   "cell_type": "code",
   "execution_count": 2,
   "id": "9772cafa",
   "metadata": {},
   "outputs": [],
   "source": [
    "patient = pd.read_csv('/project/data/PATIENTS.csv')\n",
    "lab = pd.read_csv('/project/data/LABEVENTS.csv')\n",
    "diagnoses = pd.read_csv('/project/data/D_ICD_DIAGNOSES.csv') # 질병 정보만 있음 \n",
    "diagnoses_icd = pd.read_csv('/project/data/DIAGNOSES_ICD.csv') # 환자별 질병 정보 "
   ]
  },
  {
   "cell_type": "code",
   "execution_count": 3,
   "id": "ff869570",
   "metadata": {},
   "outputs": [
    {
     "data": {
      "text/plain": [
       "(95, 4)"
      ]
     },
     "execution_count": 3,
     "metadata": {},
     "output_type": "execute_result"
    },
    {
     "data": {
      "text/html": [
       "<div>\n",
       "<style scoped>\n",
       "    .dataframe tbody tr th:only-of-type {\n",
       "        vertical-align: middle;\n",
       "    }\n",
       "\n",
       "    .dataframe tbody tr th {\n",
       "        vertical-align: top;\n",
       "    }\n",
       "\n",
       "    .dataframe thead th {\n",
       "        text-align: right;\n",
       "    }\n",
       "</style>\n",
       "<table border=\"1\" class=\"dataframe\">\n",
       "  <thead>\n",
       "    <tr style=\"text-align: right;\">\n",
       "      <th></th>\n",
       "      <th>ROW_ID</th>\n",
       "      <th>ICD9_CODE</th>\n",
       "      <th>SHORT_TITLE</th>\n",
       "      <th>LONG_TITLE</th>\n",
       "    </tr>\n",
       "  </thead>\n",
       "  <tbody>\n",
       "    <tr>\n",
       "      <th>5129</th>\n",
       "      <td>5509</td>\n",
       "      <td>48241</td>\n",
       "      <td>Meth sus pneum d/t Staph</td>\n",
       "      <td>Methicillin susceptible pneumonia due to Staph...</td>\n",
       "    </tr>\n",
       "    <tr>\n",
       "      <th>5147</th>\n",
       "      <td>5528</td>\n",
       "      <td>486</td>\n",
       "      <td>Pneumonia, organism NOS</td>\n",
       "      <td>Pneumonia, organism unspecified</td>\n",
       "    </tr>\n",
       "    <tr>\n",
       "      <th>5407</th>\n",
       "      <td>5136</td>\n",
       "      <td>5070</td>\n",
       "      <td>Food/vomit pneumonitis</td>\n",
       "      <td>Pneumonitis due to inhalation of food or vomitus</td>\n",
       "    </tr>\n",
       "  </tbody>\n",
       "</table>\n",
       "</div>"
      ],
      "text/plain": [
       "      ROW_ID ICD9_CODE               SHORT_TITLE  \\\n",
       "5129    5509     48241  Meth sus pneum d/t Staph   \n",
       "5147    5528       486   Pneumonia, organism NOS   \n",
       "5407    5136      5070    Food/vomit pneumonitis   \n",
       "\n",
       "                                             LONG_TITLE  \n",
       "5129  Methicillin susceptible pneumonia due to Staph...  \n",
       "5147                    Pneumonia, organism unspecified  \n",
       "5407   Pneumonitis due to inhalation of food or vomitus  "
      ]
     },
     "execution_count": 3,
     "metadata": {},
     "output_type": "execute_result"
    },
    {
     "data": {
      "text/plain": [
       "7807"
      ]
     },
     "execution_count": 3,
     "metadata": {},
     "output_type": "execute_result"
    },
    {
     "data": {
      "text/plain": [
       "1    4777\n",
       "0    3030\n",
       "Name: EXPIRE_FLAG, dtype: int64"
      ]
     },
     "execution_count": 3,
     "metadata": {},
     "output_type": "execute_result"
    }
   ],
   "source": [
    "# 1. 폐와 관련된 질병 추출 (95가지)\n",
    "diag_pneu = diagnoses[(diagnoses['SHORT_TITLE'].str.contains('pneum')|(diagnoses['SHORT_TITLE'].str.contains('Pneum')))]\n",
    "diag_pneu.shape\n",
    "\n",
    "# 2. 폐와 관련된 질병을 가진 환자 추출 -> 14159명\n",
    "# 가장 많은 폐렴 종류 상위 3개 -> 486, 5070, 48241 (top3_pneu)\n",
    "pneu_id = diagnoses_icd[diagnoses_icd['ICD9_CODE'].isin(diag_pneu['ICD9_CODE'])].reset_index()\n",
    "top3_pneu = pneu_id['ICD9_CODE'].value_counts()[:3].index\n",
    "\n",
    "# 3. ICD9_CODE : 486, 5070, 48241의 정확한 병명 확인\n",
    "# -> 486 : \n",
    "# -> 5070 : 음식 또는 구토물에 의한 폐렴\n",
    "# -> 48241 : \n",
    "diagnoses[diagnoses['ICD9_CODE'].isin(top3_pneu)]\n",
    "\n",
    "# 4. top3_pneu에 해당하는 환자 추출 \n",
    "pneu_sub = pneu_id[(pneu_id['ICD9_CODE'].isin(top3_pneu))].drop(['index','ROW_ID','SEQ_NUM'],axis=1).reset_index(drop=True)\n",
    "\n",
    "# 5. pneu_sub에 한 환자 당 여러 병원기록을 가지고 있을 수 있음\n",
    "# 예측에 활용할 unique한 환자 수 : 7807\n",
    "환자id = pneu_sub['SUBJECT_ID'].unique()\n",
    "len(환자id)\n",
    "\n",
    "# 6. 추출한 환자id로 환자의 사망, 생존 분포 확인\n",
    "# -> 사망 : 4777, 생존 : 3030\n",
    "patient[patient['SUBJECT_ID'].isin(환자id)]['EXPIRE_FLAG'].value_counts()\n",
    "\n",
    "# 7. 추출한 환자id로 patient에서 환자 정보 추출\n",
    "환자 = patient[patient['SUBJECT_ID'].isin(환자id)]\n",
    "# 환자\n",
    "\n",
    "# 환자.to_csv('폐렴환자.csv', index=False)"
   ]
  },
  {
   "cell_type": "code",
   "execution_count": 4,
   "id": "36a2d768",
   "metadata": {},
   "outputs": [
    {
     "data": {
      "text/plain": [
       "9356349"
      ]
     },
     "execution_count": 4,
     "metadata": {},
     "output_type": "execute_result"
    },
    {
     "data": {
      "text/plain": [
       "nan         5931403\n",
       "abnormal    3406609\n",
       "delta         18337\n",
       "Name: FLAG, dtype: int64"
      ]
     },
     "execution_count": 4,
     "metadata": {},
     "output_type": "execute_result"
    },
    {
     "data": {
      "text/plain": [
       "690"
      ]
     },
     "execution_count": 4,
     "metadata": {},
     "output_type": "execute_result"
    },
    {
     "data": {
      "text/plain": [
       "[60961, 48968, 17674, 9388, 19097, 93114, 58012, 95230]"
      ]
     },
     "execution_count": 4,
     "metadata": {},
     "output_type": "execute_result"
    }
   ],
   "source": [
    "# 8. labevents에서 폐렴환자 추출 : '환자lab'\n",
    "환자lab = lab[lab['SUBJECT_ID'].isin(환자id)].reset_index(drop=True)\n",
    "\n",
    "# 9. 'FLAG'열의 결측치를 'nan'으로 설정\n",
    "환자lab['FLAG'] = 환자lab['FLAG'].fillna('nan')\n",
    "\n",
    "# 10. 환자의 labevents에서 item별 flag값 확인 \n",
    "len(환자lab)\n",
    "환자lab['FLAG'].value_counts()\n",
    "\n",
    "# 11. 환자lab의 전체 ITEMID 개수 확인\n",
    "환자lab['ITEMID'].nunique()\n",
    "\n",
    "# 12. 환자lab -> csv로 저장 \n",
    "# 환자lab.to_csv('폐렴환자lab.csv', index=False)\n",
    "\n",
    "# 13. patient의 폐렴 환자가 labevent의 폐렴 환자수보다 8명 더 많음\n",
    "# 외래환자는 labevent의 'HADM_ID'를 가지지 않음 \n",
    "외래환자idx = list(set(환자id) - set(환자lab['SUBJECT_ID'].unique()))\n",
    "외래환자idx"
   ]
  }
 ],
 "metadata": {
  "kernelspec": {
   "display_name": "Python 3",
   "language": "python",
   "name": "python3"
  },
  "language_info": {
   "codemirror_mode": {
    "name": "ipython",
    "version": 3
   },
   "file_extension": ".py",
   "mimetype": "text/x-python",
   "name": "python",
   "nbconvert_exporter": "python",
   "pygments_lexer": "ipython3",
   "version": "3.8.5"
  },
  "toc": {
   "base_numbering": 1,
   "nav_menu": {},
   "number_sections": true,
   "sideBar": true,
   "skip_h1_title": false,
   "title_cell": "Table of Contents",
   "title_sidebar": "Contents",
   "toc_cell": false,
   "toc_position": {
    "height": "calc(100% - 180px)",
    "left": "10px",
    "top": "150px",
    "width": "209.803px"
   },
   "toc_section_display": true,
   "toc_window_display": true
  }
 },
 "nbformat": 4,
 "nbformat_minor": 5
}
