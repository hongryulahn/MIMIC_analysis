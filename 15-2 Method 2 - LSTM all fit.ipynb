{
 "cells": [
  {
   "cell_type": "markdown",
   "id": "e26eeb80",
   "metadata": {},
   "source": [
    "# Library"
   ]
  },
  {
   "cell_type": "code",
   "execution_count": 1,
   "id": "8a18a0f9",
   "metadata": {},
   "outputs": [
    {
     "name": "stdout",
     "output_type": "stream",
     "text": [
      "[PhysicalDevice(name='/physical_device:GPU:0', device_type='GPU'), PhysicalDevice(name='/physical_device:GPU:1', device_type='GPU')]\n"
     ]
    }
   ],
   "source": [
    "import numpy as np, os\n",
    "import pandas as pd\n",
    "import tensorflow as tf\n",
    "from tqdm import tqdm\n",
    "import seaborn as sns\n",
    "import matplotlib.pyplot as plt\n",
    "\n",
    "# 결과 확인을 용이하게 하기 위한 코드\n",
    "from IPython.core.interactiveshell import InteractiveShell\n",
    "InteractiveShell.ast_node_interactivity = 'all'\n",
    "\n",
    "#한글설정\n",
    "import matplotlib.font_manager as fm\n",
    "\n",
    "font_dirs = ['/usr/share/fonts/truetype/nanum', ]\n",
    "font_files = fm.findSystemFonts(fontpaths=font_dirs)\n",
    "\n",
    "for font_file in font_files:\n",
    "    fm.fontManager.addfont(font_file)\n",
    "    \n",
    "# 한글 출력을 위해서 폰트 옵션을 설정합니다.\n",
    "# \"axes.unicode_minus\" : 마이너스가 깨질 것을 방지\n",
    "\n",
    "sns.set(font=\"NanumBarunGothic\", \n",
    "        rc={\"axes.unicode_minus\":False},\n",
    "        style='darkgrid')\n",
    "\n",
    "# GPU 용량 설정\n",
    "gpus = tf.config.experimental.list_physical_devices('GPU')\n",
    "print(gpus)\n",
    "if gpus:  # gpu가 있다면, 용량 한도를 5GB로 설정\n",
    "    tf.config.experimental.set_virtual_device_configuration(gpus[0], \n",
    "                                                            [tf.config.experimental.VirtualDeviceConfiguration(memory_limit=5*1024)])"
   ]
  },
  {
   "cell_type": "markdown",
   "id": "00cd1d32",
   "metadata": {},
   "source": [
    "# Data Load"
   ]
  },
  {
   "cell_type": "code",
   "execution_count": 2,
   "id": "62e1530a",
   "metadata": {},
   "outputs": [],
   "source": [
    "df_d1d5 = pd.read_csv('df_d1d5_allfit.csv')\n",
    "df_d1d5 = df_d1d5.sort_values(by='diff',ascending=False)\n",
    "\n",
    "df_d6d10 = pd.read_csv('df_d6d10_allfit.csv')\n",
    "df_d6d10 = df_d6d10.sort_values(by='diff',ascending=False)"
   ]
  },
  {
   "cell_type": "markdown",
   "id": "8443ac8e",
   "metadata": {},
   "source": [
    "# Method 2 : 변동성\n",
    "$$\n",
    "FI^{역전} = FI^{원시간} - FI^{근시간}\n",
    "$$ \n",
    "\n",
    "$$\n",
    "FI^{근시간} = Relu(FI^{d1d5,inverse}) * sign(FI^{d1d5, 0->1})\n",
    "$$\n",
    "$$\n",
    "FI^{원시간} = Relu(FI^{d6d10,inverse}) * sign(FI^{d6d10, 0->1})\n",
    "$$\n",
    "\n",
    "$$\n",
    "FI^{our} = Relu(FI^{inverse}) * sign(FI^{0->1})\n",
    "$$"
   ]
  },
  {
   "cell_type": "markdown",
   "id": "fafdc691",
   "metadata": {},
   "source": [
    "## 근시간에 대한 FI^our\n",
    "$$\n",
    "FI^{근시간} = Relu(FI^{d1d5,inverse}) * sign(FI^{d1d5, 0->1})\n",
    "$$\n",
    "$$\n",
    "FI^{원시간} = Relu(FI^{d6d10,inverse}) * sign(FI^{d6d10, 0->1})\n",
    "$$"
   ]
  },
  {
   "cell_type": "markdown",
   "id": "df333e1a",
   "metadata": {},
   "source": [
    "### 일관성"
   ]
  },
  {
   "cell_type": "code",
   "execution_count": 3,
   "id": "726bdb3b",
   "metadata": {},
   "outputs": [
    {
     "name": "stderr",
     "output_type": "stream",
     "text": [
      "/usr/local/lib/python3.8/dist-packages/pandas/core/indexing.py:1720: SettingWithCopyWarning: \n",
      "A value is trying to be set on a copy of a slice from a DataFrame.\n",
      "Try using .loc[row_indexer,col_indexer] = value instead\n",
      "\n",
      "See the caveats in the documentation: https://pandas.pydata.org/pandas-docs/stable/user_guide/indexing.html#returning-a-view-versus-a-copy\n",
      "  self._setitem_single_column(loc, value, pi)\n"
     ]
    },
    {
     "data": {
      "text/html": [
       "<div>\n",
       "<style scoped>\n",
       "    .dataframe tbody tr th:only-of-type {\n",
       "        vertical-align: middle;\n",
       "    }\n",
       "\n",
       "    .dataframe tbody tr th {\n",
       "        vertical-align: top;\n",
       "    }\n",
       "\n",
       "    .dataframe thead th {\n",
       "        text-align: right;\n",
       "    }\n",
       "</style>\n",
       "<table border=\"1\" class=\"dataframe\">\n",
       "  <thead>\n",
       "    <tr style=\"text-align: right;\">\n",
       "      <th></th>\n",
       "      <th>feature</th>\n",
       "      <th>diff</th>\n",
       "    </tr>\n",
       "  </thead>\n",
       "  <tbody>\n",
       "    <tr>\n",
       "      <th>0</th>\n",
       "      <td>0</td>\n",
       "      <td>0.000000</td>\n",
       "    </tr>\n",
       "    <tr>\n",
       "      <th>1</th>\n",
       "      <td>50803</td>\n",
       "      <td>0.001581</td>\n",
       "    </tr>\n",
       "    <tr>\n",
       "      <th>2</th>\n",
       "      <td>50804</td>\n",
       "      <td>0.000248</td>\n",
       "    </tr>\n",
       "    <tr>\n",
       "      <th>3</th>\n",
       "      <td>50805</td>\n",
       "      <td>0.001556</td>\n",
       "    </tr>\n",
       "    <tr>\n",
       "      <th>4</th>\n",
       "      <td>50806</td>\n",
       "      <td>0.001287</td>\n",
       "    </tr>\n",
       "    <tr>\n",
       "      <th>...</th>\n",
       "      <td>...</td>\n",
       "      <td>...</td>\n",
       "    </tr>\n",
       "    <tr>\n",
       "      <th>4063</th>\n",
       "      <td>78112001103</td>\n",
       "      <td>0.002036</td>\n",
       "    </tr>\n",
       "    <tr>\n",
       "      <th>4064</th>\n",
       "      <td>79511050204</td>\n",
       "      <td>0.000000</td>\n",
       "    </tr>\n",
       "    <tr>\n",
       "      <th>4065</th>\n",
       "      <td>87701071218</td>\n",
       "      <td>0.002668</td>\n",
       "    </tr>\n",
       "    <tr>\n",
       "      <th>4066</th>\n",
       "      <td>87701083336</td>\n",
       "      <td>0.000000</td>\n",
       "    </tr>\n",
       "    <tr>\n",
       "      <th>4067</th>\n",
       "      <td>87701089415</td>\n",
       "      <td>0.000000</td>\n",
       "    </tr>\n",
       "  </tbody>\n",
       "</table>\n",
       "<p>4068 rows × 2 columns</p>\n",
       "</div>"
      ],
      "text/plain": [
       "          feature      diff\n",
       "0               0  0.000000\n",
       "1           50803  0.001581\n",
       "2           50804  0.000248\n",
       "3           50805  0.001556\n",
       "4           50806  0.001287\n",
       "...           ...       ...\n",
       "4063  78112001103  0.002036\n",
       "4064  79511050204  0.000000\n",
       "4065  87701071218  0.002668\n",
       "4066  87701083336  0.000000\n",
       "4067  87701089415  0.000000\n",
       "\n",
       "[4068 rows x 2 columns]"
      ]
     },
     "execution_count": 3,
     "metadata": {},
     "output_type": "execute_result"
    }
   ],
   "source": [
    "# 1. 일관성\n",
    "m2_일관성_df1 = df_d1d5[['feature','diff']]\n",
    "m2_일관성_df1.loc[(m2_일관성_df1['diff'] <= 0),'diff'] = 0\n",
    "m2_일관성_df1 = m2_일관성_df1.sort_values(by='feature')\n",
    "m2_일관성_df1.index = list(range(4068))\n",
    "m2_일관성_df1"
   ]
  },
  {
   "cell_type": "markdown",
   "id": "0170e38b",
   "metadata": {},
   "source": [
    "### 방향성"
   ]
  },
  {
   "cell_type": "code",
   "execution_count": null,
   "id": "4b7abd6b",
   "metadata": {},
   "outputs": [
    {
     "name": "stderr",
     "output_type": "stream",
     "text": [
      "Using TensorFlow backend.\n"
     ]
    },
    {
     "name": "stdout",
     "output_type": "stream",
     "text": [
      "WARNING:tensorflow:Layer lstm will not use cuDNN kernels since it doesn't meet the criteria. It will use a generic GPU kernel as fallback when running on GPU.\n",
      "WARNING:tensorflow:Layer lstm_1 will not use cuDNN kernels since it doesn't meet the criteria. It will use a generic GPU kernel as fallback when running on GPU.\n",
      "WARNING:tensorflow:Layer lstm_2 will not use cuDNN kernels since it doesn't meet the criteria. It will use a generic GPU kernel as fallback when running on GPU.\n",
      "WARNING:tensorflow:Layer lstm_3 will not use cuDNN kernels since it doesn't meet the criteria. It will use a generic GPU kernel as fallback when running on GPU.\n"
     ]
    },
    {
     "name": "stderr",
     "output_type": "stream",
     "text": [
      "  9%|▉         | 375/4068 [14:19<2:20:55,  2.29s/it]"
     ]
    }
   ],
   "source": [
    "# 1) DATA \n",
    "import random    \n",
    "# ---------------------\n",
    "seed_num = 42\n",
    "# ---------------------\n",
    "random.seed(seed_num)\n",
    "\n",
    "x = np.load('/project/LSH/x_(7727,10,4068).npy')\n",
    "y = np.load('/project/LSH/y_(7727,1).npy')\n",
    "\n",
    "# 2) MODEL\n",
    "from keras.models import load_model\n",
    "lstm2 = load_model('./model/(LSTM_best_4068)seed42-05-0.5029.hdf5')\n",
    "\n",
    "# 3)\n",
    "# FEATURES\n",
    "a = pd.read_csv('total_data_7727.csv')\n",
    "features = list(a['ITEMID'].sort_values().unique()) # 4068개 ITEMID \n",
    "\n",
    "# No Change에 대한 평균예측값 (baseline)\n",
    "preds = lstm2.predict(x)\n",
    "pred_base = np.mean(preds)\n",
    "\n",
    "# COMPUTE BASELINE\n",
    "results = []\n",
    "results.append({'feature':'BASELINE','pred_base':pred_base}) \n",
    "\n",
    "for k in tqdm(range(len(features))):\n",
    "\n",
    "    # REVERSE ALL FEATURE K\n",
    "    save_col = x[:,:,k].copy()\n",
    "    x[:,5:,k] = np.where(x[:,5:,k]==0, 1, x[:,5:,k])\n",
    "\n",
    "    # COMPUTE BCE WITH FEATURE K REVERSED\n",
    "    pred2 = lstm2.predict(x)\n",
    "    pred2_mean = np.mean(pred2)\n",
    "    \n",
    "    results.append({'feature':features[k],'pred2':pred2_mean})\n",
    "    x[:,:,k] = save_col"
   ]
  },
  {
   "cell_type": "code",
   "execution_count": null,
   "id": "6c061beb",
   "metadata": {},
   "outputs": [],
   "source": [
    "# 4) diff 구해서 sign함수에 적용\n",
    "\n",
    "방향성_df = pd.DataFrame(results)\n",
    "pred_base = 방향성_df.iloc[0,1]\n",
    "방향성_df = 방향성_df.drop(index=0, columns=['pred_base'])\n",
    "방향성_df['diff'] = 방향성_df['pred2']-pred_base\n",
    "\n",
    "방향성_df.loc[(방향성_df['diff']>0),'diff'] = 1\n",
    "방향성_df.loc[(방향성_df['diff']<=0),'diff'] = -1\n",
    "방향성_df = 방향성_df.sort_values(ascending=True, by='feature')\n",
    "방향성_df.to_csv('m2_방향성df_근시간_allfit.csv',index=False)"
   ]
  },
  {
   "cell_type": "code",
   "execution_count": null,
   "id": "7f39d722",
   "metadata": {},
   "outputs": [],
   "source": [
    "# 2. 방향성\n",
    "m2_방향성_df1 = pd.read_csv('m2_방향성df_근시간_allfit.csv')\n",
    "m2_방향성_df1.index = list(range(4068))"
   ]
  },
  {
   "cell_type": "markdown",
   "id": "0356d80e",
   "metadata": {},
   "source": [
    "### 일관성 * 방향성"
   ]
  },
  {
   "cell_type": "code",
   "execution_count": null,
   "id": "3f2d69fb",
   "metadata": {},
   "outputs": [],
   "source": [
    "# 3. 일관성 * 방향성\n",
    "FI_our_근시간 = m2_일관성_df1.copy()\n",
    "FI_our_근시간['mul'] = m2_일관성_df1['diff'] * m2_방향성_df1['diff']\n",
    "FI_our_근시간"
   ]
  },
  {
   "cell_type": "code",
   "execution_count": 22,
   "id": "2f85b3d8",
   "metadata": {},
   "outputs": [
    {
     "data": {
      "text/html": [
       "<div>\n",
       "<style scoped>\n",
       "    .dataframe tbody tr th:only-of-type {\n",
       "        vertical-align: middle;\n",
       "    }\n",
       "\n",
       "    .dataframe tbody tr th {\n",
       "        vertical-align: top;\n",
       "    }\n",
       "\n",
       "    .dataframe thead th {\n",
       "        text-align: right;\n",
       "    }\n",
       "</style>\n",
       "<table border=\"1\" class=\"dataframe\">\n",
       "  <thead>\n",
       "    <tr style=\"text-align: right;\">\n",
       "      <th></th>\n",
       "      <th>feature</th>\n",
       "      <th>diff</th>\n",
       "      <th>mul</th>\n",
       "    </tr>\n",
       "  </thead>\n",
       "  <tbody>\n",
       "    <tr>\n",
       "      <th>0</th>\n",
       "      <td>0</td>\n",
       "      <td>0.000000</td>\n",
       "      <td>-0.000000</td>\n",
       "    </tr>\n",
       "    <tr>\n",
       "      <th>1</th>\n",
       "      <td>50803</td>\n",
       "      <td>0.000739</td>\n",
       "      <td>-0.000739</td>\n",
       "    </tr>\n",
       "    <tr>\n",
       "      <th>2</th>\n",
       "      <td>50804</td>\n",
       "      <td>0.003245</td>\n",
       "      <td>0.003245</td>\n",
       "    </tr>\n",
       "    <tr>\n",
       "      <th>3</th>\n",
       "      <td>50805</td>\n",
       "      <td>0.000276</td>\n",
       "      <td>-0.000276</td>\n",
       "    </tr>\n",
       "    <tr>\n",
       "      <th>4</th>\n",
       "      <td>50806</td>\n",
       "      <td>0.004817</td>\n",
       "      <td>0.004817</td>\n",
       "    </tr>\n",
       "    <tr>\n",
       "      <th>...</th>\n",
       "      <td>...</td>\n",
       "      <td>...</td>\n",
       "      <td>...</td>\n",
       "    </tr>\n",
       "    <tr>\n",
       "      <th>4063</th>\n",
       "      <td>78112001103</td>\n",
       "      <td>0.000263</td>\n",
       "      <td>-0.000263</td>\n",
       "    </tr>\n",
       "    <tr>\n",
       "      <th>4064</th>\n",
       "      <td>79511050204</td>\n",
       "      <td>0.000000</td>\n",
       "      <td>-0.000000</td>\n",
       "    </tr>\n",
       "    <tr>\n",
       "      <th>4065</th>\n",
       "      <td>87701071218</td>\n",
       "      <td>0.009628</td>\n",
       "      <td>0.009628</td>\n",
       "    </tr>\n",
       "    <tr>\n",
       "      <th>4066</th>\n",
       "      <td>87701083336</td>\n",
       "      <td>0.000000</td>\n",
       "      <td>0.000000</td>\n",
       "    </tr>\n",
       "    <tr>\n",
       "      <th>4067</th>\n",
       "      <td>87701089415</td>\n",
       "      <td>0.000933</td>\n",
       "      <td>0.000933</td>\n",
       "    </tr>\n",
       "  </tbody>\n",
       "</table>\n",
       "<p>4068 rows × 3 columns</p>\n",
       "</div>"
      ],
      "text/plain": [
       "          feature      diff       mul\n",
       "0               0  0.000000 -0.000000\n",
       "1           50803  0.000739 -0.000739\n",
       "2           50804  0.003245  0.003245\n",
       "3           50805  0.000276 -0.000276\n",
       "4           50806  0.004817  0.004817\n",
       "...           ...       ...       ...\n",
       "4063  78112001103  0.000263 -0.000263\n",
       "4064  79511050204  0.000000 -0.000000\n",
       "4065  87701071218  0.009628  0.009628\n",
       "4066  87701083336  0.000000  0.000000\n",
       "4067  87701089415  0.000933  0.000933\n",
       "\n",
       "[4068 rows x 3 columns]"
      ]
     },
     "execution_count": 22,
     "metadata": {},
     "output_type": "execute_result"
    }
   ],
   "source": []
  },
  {
   "cell_type": "markdown",
   "id": "346a8f5b",
   "metadata": {},
   "source": [
    "## 원시간에 대한 FI^our"
   ]
  },
  {
   "cell_type": "markdown",
   "id": "a3a4b2b5",
   "metadata": {},
   "source": [
    "### 일관성"
   ]
  },
  {
   "cell_type": "code",
   "execution_count": null,
   "id": "37985f4d",
   "metadata": {},
   "outputs": [],
   "source": [
    "# 1. 일관성\n",
    "m2_일관성_df2 = df_d6d10[['feature','diff']]\n",
    "m2_일관성_df2.loc[(m2_일관성_df2['diff'] <= 0),'diff'] = 0\n",
    "m2_일관성_df2 = m2_일관성_df2.sort_values(by='feature')\n",
    "m2_일관성_df2.index = list(range(4068))\n",
    "m2_일관성_df2"
   ]
  },
  {
   "cell_type": "markdown",
   "id": "742a4129",
   "metadata": {},
   "source": [
    "### 방향성"
   ]
  },
  {
   "cell_type": "code",
   "execution_count": null,
   "id": "9f306813",
   "metadata": {},
   "outputs": [],
   "source": [
    "# 1) DATA \n",
    "import random    \n",
    "# ---------------------\n",
    "seed_num = 42\n",
    "# ---------------------\n",
    "random.seed(seed_num)\n",
    "\n",
    "x = np.load('/project/LSH/x_(7727,10,4068).npy')\n",
    "y = np.load('/project/LSH/y_(7727,1).npy')\n",
    "\n",
    "# 2) MODEL\n",
    "from keras.models import load_model\n",
    "lstm2 = load_model('./model/(LSTM_best_4068)seed42-05-0.5029.hdf5')\n",
    "\n",
    "# 3)\n",
    "# FEATURES\n",
    "a = pd.read_csv('total_data_7727.csv')\n",
    "features = list(a['ITEMID'].sort_values().unique()) # 4068개 ITEMID \n",
    "\n",
    "# No Change에 대한 평균예측값 (baseline)\n",
    "preds = lstm2.predict(x)\n",
    "pred_base = np.mean(preds)\n",
    "\n",
    "# COMPUTE BASELINE\n",
    "results = []\n",
    "results.append({'feature':'BASELINE','pred_base':pred_base}) \n",
    "\n",
    "for k in tqdm(range(len(features))):\n",
    "\n",
    "    # REVERSE ALL FEATURE K\n",
    "    save_col = x[:,:,k].copy()\n",
    "    x[:,:5,k] = np.where(x[:,:5,k]==0, 1, x[:,:5,k])\n",
    "\n",
    "    # COMPUTE BCE WITH FEATURE K REVERSED\n",
    "    pred2 = lstm2.predict(x)\n",
    "    pred2_mean = np.mean(pred2)\n",
    "    \n",
    "    results.append({'feature':features[k],'pred2':pred2_mean})\n",
    "    x[:,:,k] = save_col"
   ]
  },
  {
   "cell_type": "code",
   "execution_count": null,
   "id": "d8e0259c",
   "metadata": {},
   "outputs": [],
   "source": [
    "# 4) diff 구해서 sign함수에 적용\n",
    "\n",
    "방향성_df = pd.DataFrame(results)\n",
    "pred_base = 방향성_df.iloc[0,1]\n",
    "방향성_df = 방향성_df.drop(index=0, columns=['pred_base'])\n",
    "방향성_df['diff'] = 방향성_df['pred2']-pred_base\n",
    "\n",
    "방향성_df.loc[(방향성_df['diff']>0),'diff'] = 1\n",
    "방향성_df.loc[(방향성_df['diff']<=0),'diff'] = -1\n",
    "방향성_df = 방향성_df.sort_values(ascending=True, by='feature')\n",
    "방향성_df.to_csv('m2_방향성df_원시간_allfit.csv',index=False)"
   ]
  },
  {
   "cell_type": "code",
   "execution_count": null,
   "id": "0a8348cc",
   "metadata": {},
   "outputs": [],
   "source": [
    "# 2. 방향성\n",
    "m2_방향성_df2 = pd.read_csv('m2_방향성df_원시간_allfit.csv')\n",
    "m2_방향성_df2.index = list(range(4068))"
   ]
  },
  {
   "cell_type": "markdown",
   "id": "c1af6982",
   "metadata": {},
   "source": [
    "### 일관성 * 방향성"
   ]
  },
  {
   "cell_type": "code",
   "execution_count": null,
   "id": "87fb4eee",
   "metadata": {},
   "outputs": [],
   "source": [
    "# 3. 일관성 * 방향성\n",
    "FI_our_원시간 = m2_일관성_df2.copy()\n",
    "FI_our_원시간['mul'] = m2_일관성_df2['diff'] * m2_방향성_df2['diff']\n",
    "FI_our_원시간"
   ]
  },
  {
   "cell_type": "markdown",
   "id": "43f48e3b",
   "metadata": {},
   "source": [
    "## 원시간 - 근시간"
   ]
  },
  {
   "cell_type": "code",
   "execution_count": null,
   "id": "125406a5",
   "metadata": {},
   "outputs": [],
   "source": [
    "method2 = FI_our_근시간.copy()[['feature','mul']]\n",
    "method2['diff2'] = FI_our_원시간['mul'] - FI_our_근시간['mul']\n",
    "\n",
    "method2 = method2.sort_values(ascending=False, by='diff2')\n",
    "method2\n",
    "\n",
    "method2.to_csv('method2_df_allfit.csv',index=False)"
   ]
  },
  {
   "cell_type": "markdown",
   "id": "7efaf028",
   "metadata": {},
   "source": [
    "# 그래프"
   ]
  },
  {
   "cell_type": "code",
   "execution_count": null,
   "id": "e5f087bf",
   "metadata": {},
   "outputs": [],
   "source": [
    "total_data = pd.read_csv('total_data_7727.csv')\n",
    "x = np.load('/project/LSH/x_(7727,10,4068).npy')\n",
    "\n",
    "def absum(PPL_list,top_or_down):\n",
    "    # 1) PRE_top10의 index 구하기\n",
    "    PPL_top10 = top_or_down\n",
    "    item_list = total_data['ITEMID'].sort_values().unique()\n",
    "\n",
    "    PPL_index = []\n",
    "    for i in PPL_top10:\n",
    "        a = list(item_list).index(i)\n",
    "        PPL_index.append(a)\n",
    "    \n",
    "    # 2) 생존자 index 구하기 \n",
    "    sub7727 = total_data['SUBJECT_ID'].unique()\n",
    "\n",
    "    patient = pd.read_csv('폐렴환자.csv')\n",
    "    patient = patient.sort_values(by='SUBJECT_ID')\n",
    "    patient = patient[patient['SUBJECT_ID'].isin(sub7727)]\n",
    "    sub_1_list = patient[patient['EXPIRE_FLAG']==0]['SUBJECT_ID'].values\n",
    "\n",
    "    생존자_index = []\n",
    "    for i in sub_1_list:\n",
    "        생존자_index.append(list(sub7727).index(i))\n",
    "        \n",
    "    # 3) 생존자 3009명의 D-10 ~ D-1 feature별 abnormal sum \n",
    "    x_생존자 = x[생존자_index,:,:]\n",
    "\n",
    "    result1 = []\n",
    "    for i in PPL_index:\n",
    "        for j in range(10):\n",
    "            result1.append(x_생존자[:,j,i].sum())\n",
    "\n",
    "    result1 = np.array(result1)\n",
    "    result1 = result1.reshape(10,-1)\n",
    "    df_PPL = pd.DataFrame(result1)\n",
    "    df_PPL.columns = [f'D-{i}' for i in range(10,0,-1)]\n",
    "    df_PPL.index = PPL_top10\n",
    "\n",
    "    # 생존한 4718명에 대한 비율 계산\n",
    "    for i in PPL_top10:\n",
    "        df_PPL.loc[f'{i}_생존'] = df_PPL.loc[i].iloc[:]/x_생존자.shape[0]\n",
    "        \n",
    "    # 4) 사망자 4718명의 D-10 ~ D-1 feature별 abnormal sum \n",
    "    사망자_index = list(set(range(0,7727))-set(생존자_index))\n",
    "\n",
    "    x_사망자 = x[사망자_index,:,:]\n",
    "\n",
    "    result2 = []\n",
    "    for i in PPL_index:\n",
    "        for j in range(10):\n",
    "            result2.append(x_사망자[:,j,i].sum())\n",
    "\n",
    "    result2 = np.array(result2)\n",
    "    result2 = result2.reshape(10,-1)\n",
    "    df_PPL_사망자 = pd.DataFrame(result2)\n",
    "    df_PPL_사망자.columns = [f'D-{i}' for i in range(10,0,-1)]\n",
    "    df_PPL_사망자.index = PPL_top10\n",
    "\n",
    "    # 사망한 3009명에 대한 비율 계산\n",
    "    for i in PPL_top10:\n",
    "        df_PPL_사망자.loc[f'{i}_사망'] = df_PPL_사망자.loc[i]/x_사망자.shape[0] \n",
    "        \n",
    "    # 5) for문으로 각 feature에 대한 비율 추이 그래프 그리기 \n",
    "\n",
    "    df_PPL_trans = df_PPL.transpose()\n",
    "    df_PPL_사망자_trans = df_PPL_사망자.transpose()\n",
    "\n",
    "    _ = plt.figure(figsize = (13,12),dpi=150)\n",
    "    for i, f in enumerate(PPL_top10): \n",
    "        _ = plt.subplot(4,3,1+i)\n",
    "        _ = plt.title(f)\n",
    "        _ = ax = sns.lineplot(data = df_PPL_사망자_trans, x = df_PPL_사망자_trans.index, y = f'{f}_사망')\n",
    "        _ = ax = sns.lineplot(data = df_PPL_trans, x = df_PPL_trans.index, y = f'{f}_생존')\n",
    "        _ = ax.legend(labels = ['사망', '생존'], loc = 'upper left', fontsize=12)\n",
    "        _ = ax.set_ylabel('per', fontsize = 12)\n",
    "\n",
    "    plt.tight_layout()"
   ]
  },
  {
   "cell_type": "code",
   "execution_count": null,
   "id": "5fc15c0c",
   "metadata": {},
   "outputs": [],
   "source": [
    "method2 = pd.read_csv('method2_df_allfit.csv')\n",
    "m2_feature = method2['feature'].tolist()\n",
    "\n",
    "# LAB, PRE, PRO의 item_list 생성 \n",
    "LAB_item = total_data[total_data['TYPE']=='LAB']['ITEMID'].unique()\n",
    "PRE_item = total_data[total_data['TYPE']=='PRE']['ITEMID'].unique()\n",
    "PRO_item = total_data[total_data['TYPE']=='PRO']['ITEMID'].unique()\n",
    "\n",
    "LAB_list = []\n",
    "PRE_list = []\n",
    "PRO_list = []\n",
    "for i in m2_feature:\n",
    "    if i in LAB_item:\n",
    "        LAB_list.append(i)\n",
    "    elif i in PRE_item:\n",
    "        PRE_list.append(i)\n",
    "    else:\n",
    "        PRO_list.append(i)"
   ]
  },
  {
   "cell_type": "markdown",
   "id": "4e18a6e7",
   "metadata": {},
   "source": [
    "## PRE"
   ]
  },
  {
   "cell_type": "code",
   "execution_count": null,
   "id": "13c3d951",
   "metadata": {},
   "outputs": [],
   "source": [
    "# 상위 10개 - '사망 -> 생존'으로의 변동성이 큰 feature\n",
    "absum(PRE_list,PRE_list[:10])"
   ]
  },
  {
   "cell_type": "code",
   "execution_count": null,
   "id": "7cc7a7e5",
   "metadata": {},
   "outputs": [],
   "source": [
    "# 하위 10개 - '생존 -> 사망'으로의 변동성이 큰 feature\n",
    "absum(PRE_list,PRE_list[-10:])"
   ]
  },
  {
   "cell_type": "markdown",
   "id": "0bb2da40",
   "metadata": {},
   "source": [
    "## PRO"
   ]
  },
  {
   "cell_type": "code",
   "execution_count": null,
   "id": "b7c02386",
   "metadata": {},
   "outputs": [],
   "source": [
    "# 상위 10개 - '사망 -> 생존'으로의 변동성이 큰 feature\n",
    "absum(PRO_list,PRO_list[:10])"
   ]
  },
  {
   "cell_type": "code",
   "execution_count": null,
   "id": "1bf2a5df",
   "metadata": {},
   "outputs": [],
   "source": [
    "# 하위 10개 - '생존 -> 사망'으로의 변동성이 큰 feature\n",
    "absum(PRO_list,PRO_list[-10:])"
   ]
  },
  {
   "cell_type": "markdown",
   "id": "c31a7a6f",
   "metadata": {},
   "source": [
    "## LAB"
   ]
  },
  {
   "cell_type": "code",
   "execution_count": null,
   "id": "0299ae8b",
   "metadata": {},
   "outputs": [],
   "source": [
    "# 상위 10개 - '사망 -> 생존'으로의 변동성이 큰 feature\n",
    "absum(LAB_list,LAB_list[:10])"
   ]
  },
  {
   "cell_type": "code",
   "execution_count": null,
   "id": "eaba756b",
   "metadata": {},
   "outputs": [],
   "source": [
    "# 하위 10개 - '생존 -> 사망'으로의 변동성이 큰 feature\n",
    "absum(LAB_list,LAB_list[-10:])"
   ]
  }
 ],
 "metadata": {
  "kernelspec": {
   "display_name": "Python 3",
   "language": "python",
   "name": "python3"
  },
  "language_info": {
   "codemirror_mode": {
    "name": "ipython",
    "version": 3
   },
   "file_extension": ".py",
   "mimetype": "text/x-python",
   "name": "python",
   "nbconvert_exporter": "python",
   "pygments_lexer": "ipython3",
   "version": "3.8.5"
  },
  "toc": {
   "base_numbering": 1,
   "nav_menu": {},
   "number_sections": true,
   "sideBar": true,
   "skip_h1_title": false,
   "title_cell": "Table of Contents",
   "title_sidebar": "Contents",
   "toc_cell": false,
   "toc_position": {
    "height": "calc(100% - 180px)",
    "left": "10px",
    "top": "150px",
    "width": "213.449px"
   },
   "toc_section_display": true,
   "toc_window_display": true
  }
 },
 "nbformat": 4,
 "nbformat_minor": 5
}
