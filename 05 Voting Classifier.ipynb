{
 "cells": [
  {
   "cell_type": "code",
   "execution_count": 1,
   "id": "b6e91539",
   "metadata": {},
   "outputs": [],
   "source": [
    "import pandas as pd\n",
    "import numpy as np\n",
    "\n",
    "# 결과 확인을 용이하게 하기 위한 코드\n",
    "from IPython.core.interactiveshell import InteractiveShell\n",
    "InteractiveShell.ast_node_interactivity = 'all'"
   ]
  },
  {
   "cell_type": "code",
   "execution_count": 2,
   "id": "3fec7eb9",
   "metadata": {
    "scrolled": true
   },
   "outputs": [
    {
     "data": {
      "text/plain": [
       "((7727, 10, 4069), 2042722.0)"
      ]
     },
     "execution_count": 2,
     "metadata": {},
     "output_type": "execute_result"
    },
    {
     "data": {
      "text/plain": [
       "((7727, 4069), 510420.0)"
      ]
     },
     "execution_count": 2,
     "metadata": {},
     "output_type": "execute_result"
    },
    {
     "data": {
      "text/plain": [
       "((7727,), 4718)"
      ]
     },
     "execution_count": 2,
     "metadata": {},
     "output_type": "execute_result"
    }
   ],
   "source": [
    "x = np.load(\"./x_(7727,10,4069).npy\")\n",
    "x_2d = np.load('./x_(7727,4069).npy')\n",
    "y = np.load(\"./y_(7727,1).npy\")\n",
    "x.shape, x.sum()\n",
    "x_2d.shape, x_2d.sum()\n",
    "y.shape, y.sum()"
   ]
  },
  {
   "cell_type": "code",
   "execution_count": 4,
   "id": "40312772",
   "metadata": {},
   "outputs": [
    {
     "data": {
      "text/plain": [
       "((6182, 10, 4069), (6182,), (1545, 10, 4069), (1545,))"
      ]
     },
     "execution_count": 4,
     "metadata": {},
     "output_type": "execute_result"
    }
   ],
   "source": [
    "seed_num = 43\n",
    "\n",
    "import random\n",
    "random.seed(seed_num)\n",
    "\n",
    "# 80% (6239) 기준으로 split\n",
    "\n",
    "idx = list(range(len(x)))\n",
    "random.shuffle(idx)\n",
    "\n",
    "i= round(len(x)*0.8)\n",
    "\n",
    "X_train = x[idx[:i],:,:]\n",
    "y_train = np.array(y[idx[:i]])\n",
    "\n",
    "X_test = x[idx[i:],:,:]\n",
    "y_test = np.array(y[idx[i:]])\n",
    "\n",
    "X_train.shape, y_train.shape, X_test.shape, y_test.shape"
   ]
  },
  {
   "cell_type": "code",
   "execution_count": 11,
   "id": "b6dbe88d",
   "metadata": {
    "scrolled": true
   },
   "outputs": [
    {
     "name": "stderr",
     "output_type": "stream",
     "text": [
      "100%|██████████| 5/5 [00:00<00:00, 10580.99it/s]\n"
     ]
    },
    {
     "name": "stdout",
     "output_type": "stream",
     "text": [
      "[('model1', <keras.wrappers.scikit_learn.KerasClassifier object at 0x7f8cf812bf70>), ('model2', <keras.wrappers.scikit_learn.KerasClassifier object at 0x7f8cf812bf40>), ('model3', <keras.wrappers.scikit_learn.KerasClassifier object at 0x7f8cf812bfa0>), ('model4', <keras.wrappers.scikit_learn.KerasClassifier object at 0x7f8cf812bdf0>), ('model5', <keras.wrappers.scikit_learn.KerasClassifier object at 0x7f8cf812be20>)]\n",
      "Epoch 1/20\n",
      "25/25 [==============================] - 18s 99ms/step - loss: 0.7310 - acc: 0.4837\n",
      "Epoch 2/20\n",
      "25/25 [==============================] - 2s 97ms/step - loss: 0.6792 - acc: 0.5957\n",
      "Epoch 3/20\n",
      "25/25 [==============================] - 2s 97ms/step - loss: 0.6699 - acc: 0.6153\n",
      "Epoch 4/20\n",
      "25/25 [==============================] - 2s 95ms/step - loss: 0.6636 - acc: 0.6249\n",
      "Epoch 5/20\n",
      "25/25 [==============================] - 2s 96ms/step - loss: 0.6432 - acc: 0.6253\n",
      "Epoch 6/20\n",
      "25/25 [==============================] - 2s 98ms/step - loss: 0.5733 - acc: 0.7051\n",
      "Epoch 7/20\n",
      "25/25 [==============================] - 2s 98ms/step - loss: 0.4785 - acc: 0.7880\n",
      "Epoch 8/20\n",
      "25/25 [==============================] - 2s 99ms/step - loss: 0.4135 - acc: 0.8286\n",
      "Epoch 9/20\n",
      "25/25 [==============================] - 2s 98ms/step - loss: 0.4010 - acc: 0.8372\n",
      "Epoch 10/20\n",
      "25/25 [==============================] - 2s 97ms/step - loss: 0.3695 - acc: 0.8604\n",
      "Epoch 11/20\n",
      "25/25 [==============================] - 3s 110ms/step - loss: 0.3521 - acc: 0.8671\n",
      "Epoch 12/20\n",
      "25/25 [==============================] - 3s 101ms/step - loss: 0.3134 - acc: 0.8886\n",
      "Epoch 13/20\n",
      "25/25 [==============================] - 3s 115ms/step - loss: 0.3081 - acc: 0.8939\n",
      "Epoch 14/20\n",
      "25/25 [==============================] - 3s 114ms/step - loss: 0.2762 - acc: 0.9109\n",
      "Epoch 15/20\n",
      "25/25 [==============================] - 3s 113ms/step - loss: 0.2596 - acc: 0.9160\n",
      "Epoch 16/20\n",
      "25/25 [==============================] - 3s 113ms/step - loss: 0.2503 - acc: 0.9209\n",
      "Epoch 17/20\n",
      "25/25 [==============================] - 3s 112ms/step - loss: 0.2361 - acc: 0.9314\n",
      "Epoch 18/20\n",
      "25/25 [==============================] - 3s 114ms/step - loss: 0.2194 - acc: 0.9348\n",
      "Epoch 19/20\n",
      "25/25 [==============================] - 3s 114ms/step - loss: 0.2229 - acc: 0.9366\n",
      "Epoch 20/20\n",
      "25/25 [==============================] - 3s 112ms/step - loss: 0.1940 - acc: 0.9455\n",
      "Epoch 1/20\n",
      "25/25 [==============================] - 3s 116ms/step - loss: 0.1947 - acc: 0.9463\n",
      "Epoch 2/20\n",
      "25/25 [==============================] - 3s 115ms/step - loss: 0.1919 - acc: 0.9460\n",
      "Epoch 3/20\n",
      "25/25 [==============================] - 3s 117ms/step - loss: 0.1832 - acc: 0.9494\n",
      "Epoch 4/20\n",
      "25/25 [==============================] - 3s 116ms/step - loss: 0.1830 - acc: 0.9500\n",
      "Epoch 5/20\n",
      "25/25 [==============================] - 3s 116ms/step - loss: 0.1779 - acc: 0.9518\n",
      "Epoch 6/20\n",
      "25/25 [==============================] - 3s 113ms/step - loss: 0.1702 - acc: 0.9555\n",
      "Epoch 7/20\n",
      "25/25 [==============================] - 3s 117ms/step - loss: 0.1701 - acc: 0.9552\n",
      "Epoch 8/20\n",
      "25/25 [==============================] - 3s 115ms/step - loss: 0.1603 - acc: 0.9609\n",
      "Epoch 9/20\n",
      "25/25 [==============================] - 3s 115ms/step - loss: 0.1558 - acc: 0.9617\n",
      "Epoch 10/20\n",
      "25/25 [==============================] - 3s 114ms/step - loss: 0.1704 - acc: 0.9521\n",
      "Epoch 11/20\n",
      "25/25 [==============================] - 3s 114ms/step - loss: 0.1548 - acc: 0.9623\n",
      "Epoch 12/20\n",
      "25/25 [==============================] - 3s 116ms/step - loss: 0.1549 - acc: 0.9609\n",
      "Epoch 13/20\n",
      "25/25 [==============================] - 3s 116ms/step - loss: 0.1589 - acc: 0.9597\n",
      "Epoch 14/20\n",
      "25/25 [==============================] - 3s 113ms/step - loss: 0.1492 - acc: 0.9633\n",
      "Epoch 15/20\n",
      "25/25 [==============================] - 3s 116ms/step - loss: 0.1467 - acc: 0.9609\n",
      "Epoch 16/20\n",
      "25/25 [==============================] - 3s 114ms/step - loss: 0.1404 - acc: 0.9676\n",
      "Epoch 17/20\n",
      "25/25 [==============================] - 3s 115ms/step - loss: 0.1352 - acc: 0.9675\n",
      "Epoch 18/20\n",
      "25/25 [==============================] - 3s 116ms/step - loss: 0.1375 - acc: 0.9668\n",
      "Epoch 19/20\n",
      "25/25 [==============================] - 3s 114ms/step - loss: 0.1533 - acc: 0.9600\n",
      "Epoch 20/20\n",
      "25/25 [==============================] - 3s 116ms/step - loss: 0.1341 - acc: 0.9694\n",
      "Epoch 1/20\n",
      "25/25 [==============================] - 3s 116ms/step - loss: 0.1331 - acc: 0.9689\n",
      "Epoch 2/20\n",
      "25/25 [==============================] - 3s 115ms/step - loss: 0.1307 - acc: 0.9699\n",
      "Epoch 3/20\n",
      "25/25 [==============================] - 3s 116ms/step - loss: 0.1285 - acc: 0.9707\n",
      "Epoch 4/20\n",
      "25/25 [==============================] - 3s 102ms/step - loss: 0.1271 - acc: 0.9709\n",
      "Epoch 5/20\n",
      "25/25 [==============================] - 2s 95ms/step - loss: 0.1327 - acc: 0.9683\n",
      "Epoch 6/20\n",
      "25/25 [==============================] - 2s 99ms/step - loss: 0.1285 - acc: 0.9702\n",
      "Epoch 7/20\n",
      "25/25 [==============================] - 2s 96ms/step - loss: 0.1280 - acc: 0.9715\n",
      "Epoch 8/20\n",
      "25/25 [==============================] - 2s 98ms/step - loss: 0.1271 - acc: 0.9683\n",
      "Epoch 9/20\n",
      "25/25 [==============================] - 2s 98ms/step - loss: 0.1329 - acc: 0.9686\n",
      "Epoch 10/20\n",
      "25/25 [==============================] - 2s 99ms/step - loss: 0.1224 - acc: 0.9717\n",
      "Epoch 11/20\n",
      "25/25 [==============================] - 2s 97ms/step - loss: 0.1228 - acc: 0.9720\n",
      "Epoch 12/20\n",
      "25/25 [==============================] - 2s 97ms/step - loss: 0.1236 - acc: 0.9698\n",
      "Epoch 13/20\n",
      "25/25 [==============================] - 2s 99ms/step - loss: 0.1205 - acc: 0.9728\n",
      "Epoch 14/20\n",
      "25/25 [==============================] - 2s 97ms/step - loss: 0.1181 - acc: 0.9735\n",
      "Epoch 15/20\n",
      "25/25 [==============================] - 2s 97ms/step - loss: 0.1201 - acc: 0.9717\n",
      "Epoch 16/20\n",
      "25/25 [==============================] - 2s 96ms/step - loss: 0.1189 - acc: 0.9733\n",
      "Epoch 17/20\n",
      "25/25 [==============================] - 2s 95ms/step - loss: 0.1207 - acc: 0.9720\n",
      "Epoch 18/20\n",
      "25/25 [==============================] - 2s 94ms/step - loss: 0.1133 - acc: 0.9757\n",
      "Epoch 19/20\n",
      "25/25 [==============================] - 2s 94ms/step - loss: 0.1103 - acc: 0.9761\n",
      "Epoch 20/20\n",
      "25/25 [==============================] - 2s 95ms/step - loss: 0.1111 - acc: 0.9743\n",
      "Epoch 1/20\n",
      "25/25 [==============================] - 3s 100ms/step - loss: 0.1153 - acc: 0.9743\n",
      "Epoch 2/20\n",
      "25/25 [==============================] - 2s 97ms/step - loss: 0.1082 - acc: 0.9762\n",
      "Epoch 3/20\n",
      "25/25 [==============================] - 2s 97ms/step - loss: 0.1083 - acc: 0.9762\n",
      "Epoch 4/20\n",
      "25/25 [==============================] - 2s 96ms/step - loss: 0.1192 - acc: 0.9689\n",
      "Epoch 5/20\n",
      "25/25 [==============================] - 3s 117ms/step - loss: 0.1165 - acc: 0.9727\n",
      "Epoch 6/20\n",
      "25/25 [==============================] - 3s 105ms/step - loss: 0.1103 - acc: 0.9759\n",
      "Epoch 7/20\n",
      "25/25 [==============================] - 3s 118ms/step - loss: 0.1053 - acc: 0.9777\n",
      "Epoch 8/20\n",
      "25/25 [==============================] - 3s 115ms/step - loss: 0.1088 - acc: 0.9756\n",
      "Epoch 9/20\n",
      "25/25 [==============================] - 3s 115ms/step - loss: 0.1091 - acc: 0.9761\n",
      "Epoch 10/20\n",
      "25/25 [==============================] - 3s 113ms/step - loss: 0.1029 - acc: 0.9777\n",
      "Epoch 11/20\n",
      "25/25 [==============================] - 3s 114ms/step - loss: 0.1010 - acc: 0.9783\n",
      "Epoch 12/20\n",
      "25/25 [==============================] - 3s 115ms/step - loss: 0.1086 - acc: 0.9756\n",
      "Epoch 13/20\n",
      "25/25 [==============================] - 3s 116ms/step - loss: 0.1239 - acc: 0.9696\n",
      "Epoch 14/20\n",
      "25/25 [==============================] - 3s 116ms/step - loss: 0.1113 - acc: 0.9741\n",
      "Epoch 15/20\n",
      "25/25 [==============================] - 3s 116ms/step - loss: 0.1023 - acc: 0.9770\n",
      "Epoch 16/20\n",
      "25/25 [==============================] - 3s 111ms/step - loss: 0.1132 - acc: 0.9723\n",
      "Epoch 17/20\n",
      "25/25 [==============================] - 3s 116ms/step - loss: 0.1000 - acc: 0.9786\n",
      "Epoch 18/20\n",
      "25/25 [==============================] - 3s 115ms/step - loss: 0.0967 - acc: 0.9798\n",
      "Epoch 19/20\n",
      "25/25 [==============================] - 3s 112ms/step - loss: 0.1007 - acc: 0.9774\n",
      "Epoch 20/20\n",
      "25/25 [==============================] - 3s 114ms/step - loss: 0.1057 - acc: 0.9754\n",
      "Epoch 1/20\n",
      "25/25 [==============================] - 3s 116ms/step - loss: 0.0985 - acc: 0.9783\n",
      "Epoch 2/20\n",
      "25/25 [==============================] - 3s 117ms/step - loss: 0.0948 - acc: 0.9803\n",
      "Epoch 3/20\n",
      "25/25 [==============================] - 3s 116ms/step - loss: 0.0996 - acc: 0.9791\n",
      "Epoch 4/20\n",
      "25/25 [==============================] - 3s 116ms/step - loss: 0.0926 - acc: 0.9808\n",
      "Epoch 5/20\n",
      "25/25 [==============================] - 3s 114ms/step - loss: 0.0916 - acc: 0.9816\n",
      "Epoch 6/20\n",
      "25/25 [==============================] - 3s 116ms/step - loss: 0.0919 - acc: 0.9816\n",
      "Epoch 7/20\n",
      "25/25 [==============================] - 3s 116ms/step - loss: 0.0930 - acc: 0.9811\n",
      "Epoch 8/20\n",
      "25/25 [==============================] - 3s 115ms/step - loss: 0.0979 - acc: 0.9783\n",
      "Epoch 9/20\n",
      "25/25 [==============================] - 3s 115ms/step - loss: 0.0964 - acc: 0.9795\n",
      "Epoch 10/20\n",
      "25/25 [==============================] - 3s 116ms/step - loss: 0.0915 - acc: 0.9812\n",
      "Epoch 11/20\n",
      "25/25 [==============================] - 3s 117ms/step - loss: 0.0910 - acc: 0.9812\n",
      "Epoch 12/20\n",
      "25/25 [==============================] - 3s 114ms/step - loss: 0.0990 - acc: 0.9777\n",
      "Epoch 13/20\n",
      "25/25 [==============================] - 3s 115ms/step - loss: 0.0904 - acc: 0.9814\n",
      "Epoch 14/20\n",
      "25/25 [==============================] - 3s 116ms/step - loss: 0.0938 - acc: 0.9798\n",
      "Epoch 15/20\n",
      "25/25 [==============================] - 3s 115ms/step - loss: 0.1099 - acc: 0.9727\n",
      "Epoch 16/20\n",
      "25/25 [==============================] - 3s 114ms/step - loss: 0.1272 - acc: 0.9667\n",
      "Epoch 17/20\n",
      "25/25 [==============================] - 3s 115ms/step - loss: 0.1007 - acc: 0.9770\n",
      "Epoch 18/20\n",
      "25/25 [==============================] - 2s 98ms/step - loss: 0.0943 - acc: 0.9808\n",
      "Epoch 19/20\n",
      "25/25 [==============================] - 2s 98ms/step - loss: 0.0986 - acc: 0.9782\n",
      "Epoch 20/20\n",
      "25/25 [==============================] - 2s 97ms/step - loss: 0.0936 - acc: 0.9803\n"
     ]
    },
    {
     "data": {
      "text/plain": [
       "VotingClassifier(estimators=[('model1',\n",
       "                              <keras.wrappers.scikit_learn.KerasClassifier object at 0x7f8cf812bf70>),\n",
       "                             ('model2',\n",
       "                              <keras.wrappers.scikit_learn.KerasClassifier object at 0x7f8cf812bf40>),\n",
       "                             ('model3',\n",
       "                              <keras.wrappers.scikit_learn.KerasClassifier object at 0x7f8cf812bfa0>),\n",
       "                             ('model4',\n",
       "                              <keras.wrappers.scikit_learn.KerasClassifier object at 0x7f8cf812bdf0>),\n",
       "                             ('model5',\n",
       "                              <keras.wrappers.scikit_learn.KerasClassifier object at 0x7f8cf812be20>)],\n",
       "                 voting='soft')"
      ]
     },
     "execution_count": 11,
     "metadata": {},
     "output_type": "execute_result"
    }
   ],
   "source": [
    "import tensorflow as tf\n",
    "from keras.models import Sequential\n",
    "from keras.layers import Dense\n",
    "from keras.layers import LSTM\n",
    "from keras.layers import Dropout\n",
    "from keras.layers import *\n",
    "\n",
    "tf.random.set_seed(seed_num)\n",
    "lstm = Sequential()\n",
    "lstm.add(InputLayer(input_shape=(X_train.shape[1],X_train.shape[2])))\n",
    "lstm.add(LSTM(units=128, activation='hard_sigmoid', return_sequences=True))\n",
    "lstm.add(LSTM(units=64, activation='hard_sigmoid', return_sequences=True))\n",
    "lstm.add(Dropout(0.2))\n",
    "lstm.add(LSTM(units=64, activation='hard_sigmoid', return_sequences=True))\n",
    "lstm.add(LSTM(units=32, activation='hard_sigmoid', return_sequences=False))\n",
    "lstm.add(Dropout(0.2))\n",
    "lstm.add(Dense(units=1, activation='sigmoid'))\n",
    "lstm.compile(optimizer= \"adam\", loss = \"binary_crossentropy\", metrics=['acc'])\n",
    "\n",
    "from tqdm import tqdm\n",
    "from keras.wrappers.scikit_learn import KerasClassifier, KerasRegressor\n",
    "from sklearn.ensemble import VotingClassifier\n",
    "\n",
    "#LSTM 쌓기\n",
    "estimator = []\n",
    "for i in tqdm(range(1,6)): #일단 1개로 정확도 측정?? \n",
    "    LSTM_Predictors = KerasClassifier(build_fn=lambda:lstm, epochs=20, batch_size=256)\n",
    "    LSTM_Predictors._estimator_type=\"classifier\"\n",
    "    estimator.append((f'model{i}', LSTM_Predictors))\n",
    "print(estimator)    \n",
    "\n",
    "final_model = VotingClassifier(estimators = estimator, voting = 'soft')\n",
    "final_model.fit(X_train,y_train)"
   ]
  },
  {
   "cell_type": "code",
   "execution_count": 12,
   "id": "7fbe0b54",
   "metadata": {},
   "outputs": [
    {
     "name": "stdout",
     "output_type": "stream",
     "text": [
      "정확도 : 0.7398058252427184\n"
     ]
    }
   ],
   "source": [
    "#예측 후 가공\n",
    "preds = final_model.predict(X_test)\n",
    "\n",
    "preds[preds>0.5]=1\n",
    "preds[preds<=0.5]=0\n",
    "\n",
    "from sklearn import metrics \n",
    "print('정확도 :', metrics.accuracy_score(y_test, preds))\n",
    "# print(\"RMSE : \", RMSE(y_test, preds))"
   ]
  }
 ],
 "metadata": {
  "kernelspec": {
   "display_name": "Python 3",
   "language": "python",
   "name": "python3"
  },
  "language_info": {
   "codemirror_mode": {
    "name": "ipython",
    "version": 3
   },
   "file_extension": ".py",
   "mimetype": "text/x-python",
   "name": "python",
   "nbconvert_exporter": "python",
   "pygments_lexer": "ipython3",
   "version": "3.8.5"
  },
  "toc": {
   "base_numbering": 1,
   "nav_menu": {},
   "number_sections": true,
   "sideBar": true,
   "skip_h1_title": false,
   "title_cell": "Table of Contents",
   "title_sidebar": "Contents",
   "toc_cell": false,
   "toc_position": {},
   "toc_section_display": true,
   "toc_window_display": false
  }
 },
 "nbformat": 4,
 "nbformat_minor": 5
}
