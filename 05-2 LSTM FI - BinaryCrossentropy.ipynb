{
 "cells": [
  {
   "cell_type": "code",
   "execution_count": 1,
   "id": "d0a32b81",
   "metadata": {},
   "outputs": [],
   "source": [
    "import numpy as np, os\n",
    "import pandas as pd\n",
    "\n",
    "# import optuna\n",
    "\n",
    "# https://www.kaggle.com/c/ventilator-pressure-prediction/discussion/274717 \n",
    "# os.environ['TF_CPP_MIN_LOG_LEVEL'] = '3'\n",
    "import matplotlib.pyplot as plt\n",
    "from tqdm.notebook import tqdm\n",
    "\n",
    "import tensorflow as tf\n",
    "from tensorflow import keras\n",
    "import tensorflow.keras.backend as K\n",
    "from tensorflow.keras.callbacks import EarlyStopping, ModelCheckpoint\n",
    "from tensorflow.keras.callbacks import LearningRateScheduler, ReduceLROnPlateau\n",
    "from tensorflow.keras.optimizers.schedules import ExponentialDecay\n",
    "\n",
    "from sklearn.metrics import mean_absolute_error as mae\n",
    "from sklearn.preprocessing import RobustScaler, normalize\n",
    "from sklearn.model_selection import train_test_split, GroupKFold, KFold\n",
    "\n",
    "from IPython.display import display"
   ]
  },
  {
   "cell_type": "code",
   "execution_count": 2,
   "id": "d16690e9",
   "metadata": {},
   "outputs": [
    {
     "data": {
      "text/plain": [
       "((6182, 10, 4069), (6182,), (1545, 10, 4069), (1545,))"
      ]
     },
     "execution_count": 2,
     "metadata": {},
     "output_type": "execute_result"
    }
   ],
   "source": [
    "import random    \n",
    "seed_num = 42\n",
    "random.seed(seed_num)\n",
    "\n",
    "x = np.load('/project/LSH/x_(7727,10,4069).npy')\n",
    "y = np.load('/project/LSH/y_(7727,1).npy')\n",
    "\n",
    "idx = list(range(len(x)))\n",
    "random.shuffle(idx)\n",
    "\n",
    "i = round(x.shape[0]*0.8)\n",
    "X_train, y_train = x[idx[:i],:,:], y[idx[:i]]\n",
    "X_test, y_test = x[idx[i:],:,:], y[idx[i:]]\n",
    "\n",
    "X_train.shape, y_train.shape, X_test.shape, y_test.shape"
   ]
  },
  {
   "cell_type": "code",
   "execution_count": null,
   "id": "9f8ecf65",
   "metadata": {
    "scrolled": true
   },
   "outputs": [
    {
     "name": "stdout",
     "output_type": "stream",
     "text": [
      " Computing LSTM feature importance...\n",
      "Epoch 1/500\n",
      "37/37 [==============================] - 19s 88ms/step - loss: 0.6789 - acc: 0.6040 - val_loss: 0.6652 - val_acc: 0.6177\n",
      "Epoch 2/500\n",
      "37/37 [==============================] - 2s 55ms/step - loss: 0.6727 - acc: 0.6065 - val_loss: 0.6595 - val_acc: 0.6177\n",
      "Epoch 3/500\n",
      "37/37 [==============================] - 2s 55ms/step - loss: 0.6574 - acc: 0.6137 - val_loss: 0.5639 - val_acc: 0.7225\n",
      "Epoch 4/500\n",
      "37/37 [==============================] - 2s 55ms/step - loss: 0.5397 - acc: 0.7385 - val_loss: 0.4977 - val_acc: 0.7697\n",
      "Epoch 5/500\n",
      "37/37 [==============================] - 2s 53ms/step - loss: 0.4558 - acc: 0.8038 - val_loss: 0.4967 - val_acc: 0.7781\n",
      "Epoch 6/500\n",
      "37/37 [==============================] - 2s 54ms/step - loss: 0.3980 - acc: 0.8417 - val_loss: 0.5468 - val_acc: 0.7613\n",
      "Epoch 7/500\n",
      "37/37 [==============================] - 2s 55ms/step - loss: 0.3719 - acc: 0.8443 - val_loss: 0.5191 - val_acc: 0.7684\n",
      "Epoch 8/500\n",
      "37/37 [==============================] - 2s 53ms/step - loss: 0.3324 - acc: 0.8728 - val_loss: 0.5706 - val_acc: 0.7549\n",
      "Epoch 9/500\n",
      "37/37 [==============================] - 2s 53ms/step - loss: 0.2994 - acc: 0.8962 - val_loss: 0.6065 - val_acc: 0.7471\n",
      "Epoch 10/500\n",
      "37/37 [==============================] - 2s 53ms/step - loss: 0.2766 - acc: 0.9103 - val_loss: 0.6125 - val_acc: 0.7536\n",
      "Restoring model weights from the end of the best epoch.\n",
      "Epoch 00010: early stopping\n"
     ]
    },
    {
     "data": {
      "application/vnd.jupyter.widget-view+json": {
       "model_id": "bc5aa0269d79401b85664c18fb044733",
       "version_major": 2,
       "version_minor": 0
      },
      "text/plain": [
       "  0%|          | 0/4069 [00:00<?, ?it/s]"
      ]
     },
     "metadata": {},
     "output_type": "display_data"
    }
   ],
   "source": [
    "from tensorflow.keras.losses import BinaryCrossentropy\n",
    "\n",
    "lr = ReduceLROnPlateau(monitor=\"val_loss\", factor=0.5, patience=10, verbose=1)\n",
    "es = EarlyStopping(monitor=\"val_loss\", patience=5, verbose=1, mode=\"min\", restore_best_weights=True)\n",
    "        \n",
    "results = []\n",
    "print(' Computing LSTM feature importance...')\n",
    "\n",
    "from keras.models import Sequential\n",
    "from keras.layers import Dense\n",
    "from keras.layers import LSTM\n",
    "from keras.layers import Dropout\n",
    "from keras.layers import *\n",
    "\n",
    "lstm = Sequential()\n",
    "lstm.add(InputLayer(input_shape=(X_train.shape[1],X_train.shape[2])))\n",
    "lstm.add(LSTM(units=128, activation='hard_sigmoid', return_sequences=True))\n",
    "lstm.add(LSTM(units=64, activation='hard_sigmoid', return_sequences=True))\n",
    "lstm.add(Dropout(0.2))\n",
    "lstm.add(LSTM(units=64, activation='hard_sigmoid', return_sequences=True))\n",
    "lstm.add(LSTM(units=32, activation='hard_sigmoid', return_sequences=False))\n",
    "lstm.add(Dropout(0.2))\n",
    "lstm.add(Dense(units=1, activation='sigmoid'))\n",
    "\n",
    "ep = 500\n",
    "pa = 30\n",
    "early_stop = EarlyStopping(monitor='val_acc', patience=pa, verbose=1, restore_best_weights=True)\n",
    "lstm.compile(optimizer= \"adam\", loss = \"binary_crossentropy\", metrics=['acc'])\n",
    "lstm.fit(X_train, y_train, validation_split=0.25, batch_size=128, epochs=ep, callbacks=[lr, es], shuffle=False)\n",
    "\n",
    "# COLS\n",
    "a = pd.read_csv('total_data.csv')\n",
    "COLS = list(a['ITEMID'].sort_values().unique())\n",
    "\n",
    "results = []\n",
    "\n",
    "# COMPUTE BASELINE (NO SHUFFLE)\n",
    "from tensorflow.keras.losses import BinaryCrossentropy\n",
    "bce = BinaryCrossentropy()\n",
    "\n",
    "preds = lstm.predict(X_test, verbose=0)\n",
    "baseline_bce = bce(y_test, preds).numpy()\n",
    "results.append({'feature':'BASELINE','baseline_bce':baseline_bce}) \n",
    "\n",
    "for k in tqdm(range(len(COLS))):\n",
    "\n",
    "    # SHUFFLE FEATURE K\n",
    "    save_col = X_test[:,:,k].copy()\n",
    "    np.random.shuffle(X_test[:,:,k])\n",
    "\n",
    "    # COMPUTE OOF MAE WITH FEATURE K SHUFFLED\n",
    "    preds = lstm.predict(X_test, verbose=0)\n",
    "    loss_bce = bce(y_test, preds).numpy()\n",
    "\n",
    "    results.append({'feature':COLS[k],'bce':bce})\n",
    "    X_test[:,:,k] = save_col\n",
    "    \n",
    "    # DISPLAY LSTM FEATURE IMPORTANCE\n",
    "    df = pd.DataFrame(results)"
   ]
  },
  {
   "cell_type": "code",
   "execution_count": null,
   "id": "11b7b832",
   "metadata": {},
   "outputs": [],
   "source": [
    "df"
   ]
  }
 ],
 "metadata": {
  "kernelspec": {
   "display_name": "Python 3",
   "language": "python",
   "name": "python3"
  },
  "language_info": {
   "codemirror_mode": {
    "name": "ipython",
    "version": 3
   },
   "file_extension": ".py",
   "mimetype": "text/x-python",
   "name": "python",
   "nbconvert_exporter": "python",
   "pygments_lexer": "ipython3",
   "version": "3.8.5"
  },
  "toc": {
   "base_numbering": 1,
   "nav_menu": {},
   "number_sections": true,
   "sideBar": true,
   "skip_h1_title": false,
   "title_cell": "Table of Contents",
   "title_sidebar": "Contents",
   "toc_cell": false,
   "toc_position": {},
   "toc_section_display": true,
   "toc_window_display": false
  }
 },
 "nbformat": 4,
 "nbformat_minor": 5
}
